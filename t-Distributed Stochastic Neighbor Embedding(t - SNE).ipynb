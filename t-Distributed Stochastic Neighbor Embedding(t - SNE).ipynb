{
 "cells": [
  {
   "cell_type": "markdown",
   "metadata": {},
   "source": [
    "* t-SNE known as t- Distributed Stochastic Neighbor Embedding for dimension reduction.\n",
    "* Dimension reduction What is it?, An Example, Using NLP Let's we process text corpa and we do vecorization of corpa using either Countvectorizer or TF-IDF vectorizer, to convert words into feature space, Usually,This feature space are very large number(i.e. large number of words/columns). To bring this into 2-D or 3-D here this technique come in handy. I will leave to you to explore more about dimension reduction techniques and maths behind dimension reduction."
   ]
  },
  {
   "cell_type": "markdown",
   "metadata": {},
   "source": [
    "* Few Examples on Dimension reduction"
   ]
  },
  {
   "cell_type": "markdown",
   "metadata": {},
   "source": [
    "### Example I"
   ]
  },
  {
   "cell_type": "code",
   "execution_count": 1,
   "metadata": {},
   "outputs": [],
   "source": [
    "# import Tensorflow and Numpy\n",
    "import tensorflow as tf\n",
    "import numpy as np"
   ]
  },
  {
   "cell_type": "code",
   "execution_count": 2,
   "metadata": {},
   "outputs": [],
   "source": [
    "corpus_raw = 'king. He is the king . The king is royal . She is the royal  queen '"
   ]
  },
  {
   "cell_type": "code",
   "execution_count": 3,
   "metadata": {},
   "outputs": [],
   "source": [
    "# convert to lower case\n",
    "corpus_raw = corpus_raw.lower()\n",
    "\n",
    "words = []\n",
    "for word in corpus_raw.split():\n",
    "    if word != '.': # because we don't want to treat . as a word\n",
    "        words.append(word)\n",
    "\n",
    "words = set(words) # so that all duplicate words are removed\n",
    "word2int = {}\n",
    "int2word = {}\n",
    "vocab_size = len(words) # gives the total number of unique words\n",
    "\n",
    "for i,word in enumerate(words):\n",
    "    word2int[word] = i\n",
    "    int2word[i] = word"
   ]
  },
  {
   "cell_type": "code",
   "execution_count": 4,
   "metadata": {},
   "outputs": [
    {
     "name": "stdout",
     "output_type": "stream",
     "text": [
      "{'king.', 'queen', 'she', 'royal', 'king', 'is', 'he', 'the'}\n",
      "{'king.': 0, 'queen': 1, 'she': 2, 'royal': 3, 'king': 4, 'is': 5, 'he': 6, 'the': 7}\n",
      "{0: 'king.', 1: 'queen', 2: 'she', 3: 'royal', 4: 'king', 5: 'is', 6: 'he', 7: 'the'}\n"
     ]
    }
   ],
   "source": [
    "print(words)\n",
    "print(word2int)\n",
    "print(int2word)"
   ]
  },
  {
   "cell_type": "code",
   "execution_count": 5,
   "metadata": {},
   "outputs": [],
   "source": [
    "# raw sentences is a list of sentences.\n",
    "raw_sentences = corpus_raw.split('.')\n",
    "sentences = []\n",
    "for sentence in raw_sentences:\n",
    "    sentences.append(sentence.split())"
   ]
  },
  {
   "cell_type": "code",
   "execution_count": 6,
   "metadata": {},
   "outputs": [
    {
     "data": {
      "text/plain": [
       "[['king'],\n",
       " ['he', 'is', 'the', 'king'],\n",
       " ['the', 'king', 'is', 'royal'],\n",
       " ['she', 'is', 'the', 'royal', 'queen']]"
      ]
     },
     "execution_count": 6,
     "metadata": {},
     "output_type": "execute_result"
    }
   ],
   "source": [
    "sentences"
   ]
  },
  {
   "cell_type": "code",
   "execution_count": 7,
   "metadata": {},
   "outputs": [],
   "source": [
    "WINDOW_SIZE = 2"
   ]
  },
  {
   "cell_type": "code",
   "execution_count": 8,
   "metadata": {},
   "outputs": [],
   "source": [
    "data = []\n",
    "for sentence in sentences:\n",
    "    for word_index, word in enumerate(sentence):\n",
    "        #print(word_index,word)\n",
    "        for nb_word in sentence[max(word_index - WINDOW_SIZE, 0) : min(word_index + WINDOW_SIZE, len(sentence)) + 1] : \n",
    "            #print(nb_word)\n",
    "            if nb_word != word:\n",
    "                data.append([word, nb_word])"
   ]
  },
  {
   "cell_type": "code",
   "execution_count": 9,
   "metadata": {
    "scrolled": true
   },
   "outputs": [
    {
     "data": {
      "text/plain": [
       "[['he', 'is'],\n",
       " ['he', 'the'],\n",
       " ['is', 'he'],\n",
       " ['is', 'the'],\n",
       " ['is', 'king'],\n",
       " ['the', 'he'],\n",
       " ['the', 'is'],\n",
       " ['the', 'king'],\n",
       " ['king', 'is'],\n",
       " ['king', 'the'],\n",
       " ['the', 'king'],\n",
       " ['the', 'is'],\n",
       " ['king', 'the'],\n",
       " ['king', 'is'],\n",
       " ['king', 'royal'],\n",
       " ['is', 'the'],\n",
       " ['is', 'king'],\n",
       " ['is', 'royal'],\n",
       " ['royal', 'king'],\n",
       " ['royal', 'is'],\n",
       " ['she', 'is'],\n",
       " ['she', 'the'],\n",
       " ['is', 'she'],\n",
       " ['is', 'the'],\n",
       " ['is', 'royal'],\n",
       " ['the', 'she'],\n",
       " ['the', 'is'],\n",
       " ['the', 'royal'],\n",
       " ['the', 'queen'],\n",
       " ['royal', 'is'],\n",
       " ['royal', 'the'],\n",
       " ['royal', 'queen'],\n",
       " ['queen', 'the'],\n",
       " ['queen', 'royal']]"
      ]
     },
     "execution_count": 9,
     "metadata": {},
     "output_type": "execute_result"
    }
   ],
   "source": [
    "data"
   ]
  },
  {
   "cell_type": "code",
   "execution_count": 9,
   "metadata": {},
   "outputs": [],
   "source": [
    "# function to convert numbers to one hot vectors\n",
    "def to_one_hot(data_point_index, vocab_size):\n",
    "    temp = np.zeros(vocab_size)\n",
    "    temp[data_point_index] = 1\n",
    "    return temp"
   ]
  },
  {
   "cell_type": "code",
   "execution_count": 10,
   "metadata": {},
   "outputs": [
    {
     "data": {
      "text/plain": [
       "8"
      ]
     },
     "execution_count": 10,
     "metadata": {},
     "output_type": "execute_result"
    }
   ],
   "source": [
    "vocab_size"
   ]
  },
  {
   "cell_type": "markdown",
   "metadata": {},
   "source": [
    "* Placeholders"
   ]
  },
  {
   "cell_type": "code",
   "execution_count": 11,
   "metadata": {},
   "outputs": [],
   "source": [
    "x_train = [] # input word\n",
    "y_train = [] # output word\n",
    "\n",
    "for data_word in data:\n",
    "    x_train.append(to_one_hot(word2int[ data_word[0] ], vocab_size))\n",
    "    y_train.append(to_one_hot(word2int[ data_word[1] ], vocab_size))"
   ]
  },
  {
   "cell_type": "code",
   "execution_count": 12,
   "metadata": {},
   "outputs": [],
   "source": [
    "# convert them to numpy arrays\n",
    "x_train = np.asarray(x_train)\n",
    "y_train = np.asarray(y_train)"
   ]
  },
  {
   "cell_type": "code",
   "execution_count": 13,
   "metadata": {
    "scrolled": true
   },
   "outputs": [
    {
     "name": "stdout",
     "output_type": "stream",
     "text": [
      "[[0. 0. 0. 0. 0. 0. 1. 0.]\n",
      " [0. 0. 0. 0. 0. 0. 1. 0.]\n",
      " [0. 0. 0. 0. 0. 1. 0. 0.]\n",
      " [0. 0. 0. 0. 0. 1. 0. 0.]\n",
      " [0. 0. 0. 0. 0. 1. 0. 0.]\n",
      " [0. 0. 0. 0. 0. 0. 0. 1.]\n",
      " [0. 0. 0. 0. 0. 0. 0. 1.]\n",
      " [0. 0. 0. 0. 0. 0. 0. 1.]\n",
      " [0. 0. 0. 0. 1. 0. 0. 0.]\n",
      " [0. 0. 0. 0. 1. 0. 0. 0.]\n",
      " [0. 0. 0. 0. 0. 0. 0. 1.]\n",
      " [0. 0. 0. 0. 0. 0. 0. 1.]\n",
      " [0. 0. 0. 0. 1. 0. 0. 0.]\n",
      " [0. 0. 0. 0. 1. 0. 0. 0.]\n",
      " [0. 0. 0. 0. 1. 0. 0. 0.]\n",
      " [0. 0. 0. 0. 0. 1. 0. 0.]\n",
      " [0. 0. 0. 0. 0. 1. 0. 0.]\n",
      " [0. 0. 0. 0. 0. 1. 0. 0.]\n",
      " [0. 0. 0. 1. 0. 0. 0. 0.]\n",
      " [0. 0. 0. 1. 0. 0. 0. 0.]\n",
      " [0. 0. 1. 0. 0. 0. 0. 0.]\n",
      " [0. 0. 1. 0. 0. 0. 0. 0.]\n",
      " [0. 0. 0. 0. 0. 1. 0. 0.]\n",
      " [0. 0. 0. 0. 0. 1. 0. 0.]\n",
      " [0. 0. 0. 0. 0. 1. 0. 0.]\n",
      " [0. 0. 0. 0. 0. 0. 0. 1.]\n",
      " [0. 0. 0. 0. 0. 0. 0. 1.]\n",
      " [0. 0. 0. 0. 0. 0. 0. 1.]\n",
      " [0. 0. 0. 0. 0. 0. 0. 1.]\n",
      " [0. 0. 0. 1. 0. 0. 0. 0.]\n",
      " [0. 0. 0. 1. 0. 0. 0. 0.]\n",
      " [0. 0. 0. 1. 0. 0. 0. 0.]\n",
      " [0. 1. 0. 0. 0. 0. 0. 0.]\n",
      " [0. 1. 0. 0. 0. 0. 0. 0.]]\n",
      "[[0. 0. 0. 0. 0. 1. 0. 0.]\n",
      " [0. 0. 0. 0. 0. 0. 0. 1.]\n",
      " [0. 0. 0. 0. 0. 0. 1. 0.]\n",
      " [0. 0. 0. 0. 0. 0. 0. 1.]\n",
      " [0. 0. 0. 0. 1. 0. 0. 0.]\n",
      " [0. 0. 0. 0. 0. 0. 1. 0.]\n",
      " [0. 0. 0. 0. 0. 1. 0. 0.]\n",
      " [0. 0. 0. 0. 1. 0. 0. 0.]\n",
      " [0. 0. 0. 0. 0. 1. 0. 0.]\n",
      " [0. 0. 0. 0. 0. 0. 0. 1.]\n",
      " [0. 0. 0. 0. 1. 0. 0. 0.]\n",
      " [0. 0. 0. 0. 0. 1. 0. 0.]\n",
      " [0. 0. 0. 0. 0. 0. 0. 1.]\n",
      " [0. 0. 0. 0. 0. 1. 0. 0.]\n",
      " [0. 0. 0. 1. 0. 0. 0. 0.]\n",
      " [0. 0. 0. 0. 0. 0. 0. 1.]\n",
      " [0. 0. 0. 0. 1. 0. 0. 0.]\n",
      " [0. 0. 0. 1. 0. 0. 0. 0.]\n",
      " [0. 0. 0. 0. 1. 0. 0. 0.]\n",
      " [0. 0. 0. 0. 0. 1. 0. 0.]\n",
      " [0. 0. 0. 0. 0. 1. 0. 0.]\n",
      " [0. 0. 0. 0. 0. 0. 0. 1.]\n",
      " [0. 0. 1. 0. 0. 0. 0. 0.]\n",
      " [0. 0. 0. 0. 0. 0. 0. 1.]\n",
      " [0. 0. 0. 1. 0. 0. 0. 0.]\n",
      " [0. 0. 1. 0. 0. 0. 0. 0.]\n",
      " [0. 0. 0. 0. 0. 1. 0. 0.]\n",
      " [0. 0. 0. 1. 0. 0. 0. 0.]\n",
      " [0. 1. 0. 0. 0. 0. 0. 0.]\n",
      " [0. 0. 0. 0. 0. 1. 0. 0.]\n",
      " [0. 0. 0. 0. 0. 0. 0. 1.]\n",
      " [0. 1. 0. 0. 0. 0. 0. 0.]\n",
      " [0. 0. 0. 0. 0. 0. 0. 1.]\n",
      " [0. 0. 0. 1. 0. 0. 0. 0.]]\n"
     ]
    }
   ],
   "source": [
    "print(x_train)\n",
    "print(y_train)"
   ]
  },
  {
   "cell_type": "code",
   "execution_count": 14,
   "metadata": {},
   "outputs": [],
   "source": [
    "# making placeholders for x_train and y_train\n",
    "x = tf.placeholder(tf.float32, shape=(None, vocab_size))\n",
    "y_label = tf.placeholder(tf.float32, shape=(None, vocab_size))"
   ]
  },
  {
   "cell_type": "markdown",
   "metadata": {},
   "source": [
    "### Tensorflow Graph"
   ]
  },
  {
   "cell_type": "code",
   "execution_count": 15,
   "metadata": {},
   "outputs": [
    {
     "name": "stdout",
     "output_type": "stream",
     "text": [
      "WARNING:tensorflow:From C:\\Users\\manish.singh04\\AppData\\Local\\Continuum\\anaconda3\\lib\\site-packages\\tensorflow\\python\\framework\\op_def_library.py:263: colocate_with (from tensorflow.python.framework.ops) is deprecated and will be removed in a future version.\n",
      "Instructions for updating:\n",
      "Colocations handled automatically by placer.\n"
     ]
    }
   ],
   "source": [
    "EMBEDDING_DIM = 5 # you can choose your own number\n",
    "W1 = tf.Variable(tf.random_normal([vocab_size, EMBEDDING_DIM])) # Embedding\n",
    "b1 = tf.Variable(tf.random_normal([EMBEDDING_DIM])) #bias\n",
    "hidden_representation = tf.add(tf.matmul(x, W1), b1)"
   ]
  },
  {
   "cell_type": "code",
   "execution_count": 16,
   "metadata": {},
   "outputs": [],
   "source": [
    "W2 = tf.Variable(tf.random_normal([EMBEDDING_DIM, vocab_size]))\n",
    "b2 = tf.Variable(tf.random_normal([vocab_size]))\n",
    "prediction = tf.nn.softmax(tf.add( tf.matmul(hidden_representation, W2), b2))"
   ]
  },
  {
   "cell_type": "markdown",
   "metadata": {},
   "source": [
    "* Run Tensoflow Session"
   ]
  },
  {
   "cell_type": "code",
   "execution_count": 17,
   "metadata": {},
   "outputs": [],
   "source": [
    "#make sure you do this!\n",
    "sess = tf.Session()\n",
    "init = tf.global_variables_initializer()\n",
    "sess.run(init) "
   ]
  },
  {
   "cell_type": "code",
   "execution_count": 18,
   "metadata": {},
   "outputs": [],
   "source": [
    "# define the loss function:\n",
    "cross_entropy_loss = tf.reduce_mean(-tf.reduce_sum(y_label * tf.log(prediction), reduction_indices=[1]))"
   ]
  },
  {
   "cell_type": "code",
   "execution_count": 19,
   "metadata": {},
   "outputs": [
    {
     "name": "stdout",
     "output_type": "stream",
     "text": [
      "WARNING:tensorflow:From C:\\Users\\manish.singh04\\AppData\\Local\\Continuum\\anaconda3\\lib\\site-packages\\tensorflow\\python\\ops\\math_ops.py:3066: to_int32 (from tensorflow.python.ops.math_ops) is deprecated and will be removed in a future version.\n",
      "Instructions for updating:\n",
      "Use tf.cast instead.\n"
     ]
    }
   ],
   "source": [
    "# define the training step:\n",
    "train_step = tf.train.GradientDescentOptimizer(0.01).minimize(cross_entropy_loss)"
   ]
  },
  {
   "cell_type": "code",
   "execution_count": 20,
   "metadata": {},
   "outputs": [
    {
     "name": "stdout",
     "output_type": "stream",
     "text": [
      "loss is :  3.4633532\n",
      "loss is :  3.4186604\n",
      "loss is :  3.3764892\n",
      "loss is :  3.3367507\n",
      "loss is :  3.299346\n",
      "loss is :  3.2641659\n",
      "loss is :  3.2310944\n",
      "loss is :  3.2000117\n",
      "loss is :  3.1707962\n",
      "loss is :  3.1433268\n",
      "loss is :  3.1174839\n",
      "loss is :  3.0931528\n",
      "loss is :  3.0702224\n",
      "loss is :  3.048587\n",
      "loss is :  3.028149\n",
      "loss is :  3.008814\n",
      "loss is :  2.9904964\n",
      "loss is :  2.973116\n",
      "loss is :  2.9566\n",
      "loss is :  2.9408786\n",
      "loss is :  2.9258914\n",
      "loss is :  2.911581\n",
      "loss is :  2.8978946\n",
      "loss is :  2.884786\n",
      "loss is :  2.8722095\n",
      "loss is :  2.860128\n",
      "loss is :  2.8485036\n",
      "loss is :  2.8373044\n",
      "loss is :  2.8264992\n",
      "loss is :  2.8160613\n",
      "loss is :  2.8059654\n",
      "loss is :  2.7961884\n",
      "loss is :  2.786709\n",
      "loss is :  2.7775083\n",
      "loss is :  2.768568\n",
      "loss is :  2.759873\n",
      "loss is :  2.7514067\n",
      "loss is :  2.7431562\n",
      "loss is :  2.7351089\n",
      "loss is :  2.7272525\n",
      "loss is :  2.7195766\n",
      "loss is :  2.7120717\n",
      "loss is :  2.7047274\n",
      "loss is :  2.6975355\n",
      "loss is :  2.6904883\n",
      "loss is :  2.6835783\n",
      "loss is :  2.676798\n",
      "loss is :  2.6701422\n",
      "loss is :  2.6636038\n",
      "loss is :  2.6571777\n",
      "loss is :  2.6508584\n",
      "loss is :  2.6446414\n",
      "loss is :  2.638522\n",
      "loss is :  2.6324954\n",
      "loss is :  2.6265583\n",
      "loss is :  2.6207066\n",
      "loss is :  2.6149366\n",
      "loss is :  2.6092458\n",
      "loss is :  2.6036298\n",
      "loss is :  2.5980868\n",
      "loss is :  2.5926132\n",
      "loss is :  2.5872066\n",
      "loss is :  2.5818653\n",
      "loss is :  2.5765855\n",
      "loss is :  2.5713663\n",
      "loss is :  2.566205\n",
      "loss is :  2.5610995\n",
      "loss is :  2.5560484\n",
      "loss is :  2.5510495\n",
      "loss is :  2.5461013\n",
      "loss is :  2.541202\n",
      "loss is :  2.5363505\n",
      "loss is :  2.531545\n",
      "loss is :  2.5267842\n",
      "loss is :  2.5220666\n",
      "loss is :  2.5173914\n",
      "loss is :  2.5127575\n",
      "loss is :  2.508163\n",
      "loss is :  2.5036075\n",
      "loss is :  2.4990895\n",
      "loss is :  2.4946082\n",
      "loss is :  2.490163\n",
      "loss is :  2.4857523\n",
      "loss is :  2.481376\n",
      "loss is :  2.4770327\n",
      "loss is :  2.472722\n",
      "loss is :  2.468443\n",
      "loss is :  2.4641943\n",
      "loss is :  2.4599762\n",
      "loss is :  2.4557877\n",
      "loss is :  2.451628\n",
      "loss is :  2.4474967\n",
      "loss is :  2.443393\n",
      "loss is :  2.4393167\n",
      "loss is :  2.4352665\n",
      "loss is :  2.4312427\n",
      "loss is :  2.4272442\n",
      "loss is :  2.4232712\n",
      "loss is :  2.4193223\n",
      "loss is :  2.4153976\n",
      "loss is :  2.4114969\n",
      "loss is :  2.407619\n",
      "loss is :  2.403764\n",
      "loss is :  2.3999314\n",
      "loss is :  2.3961208\n",
      "loss is :  2.392332\n",
      "loss is :  2.3885648\n",
      "loss is :  2.3848186\n",
      "loss is :  2.3810925\n",
      "loss is :  2.377387\n",
      "loss is :  2.3737016\n",
      "loss is :  2.3700356\n",
      "loss is :  2.366389\n",
      "loss is :  2.3627615\n",
      "loss is :  2.3591528\n",
      "loss is :  2.3555627\n",
      "loss is :  2.3519912\n",
      "loss is :  2.348437\n",
      "loss is :  2.344901\n",
      "loss is :  2.3413825\n",
      "loss is :  2.337881\n",
      "loss is :  2.334397\n",
      "loss is :  2.3309298\n",
      "loss is :  2.3274786\n",
      "loss is :  2.3240447\n",
      "loss is :  2.3206263\n",
      "loss is :  2.317224\n",
      "loss is :  2.3138375\n",
      "loss is :  2.3104665\n",
      "loss is :  2.3071113\n",
      "loss is :  2.3037705\n",
      "loss is :  2.3004456\n",
      "loss is :  2.297135\n",
      "loss is :  2.2938397\n",
      "loss is :  2.290558\n",
      "loss is :  2.2872915\n",
      "loss is :  2.2840388\n",
      "loss is :  2.2808\n",
      "loss is :  2.2775753\n",
      "loss is :  2.2743642\n",
      "loss is :  2.2711668\n",
      "loss is :  2.267983\n",
      "loss is :  2.2648118\n",
      "loss is :  2.2616546\n",
      "loss is :  2.2585099\n",
      "loss is :  2.2553782\n",
      "loss is :  2.2522595\n",
      "loss is :  2.2491531\n",
      "loss is :  2.2460592\n",
      "loss is :  2.2429776\n",
      "loss is :  2.2399085\n",
      "loss is :  2.2368517\n",
      "loss is :  2.2338066\n",
      "loss is :  2.2307732\n",
      "loss is :  2.2277517\n",
      "loss is :  2.2247422\n",
      "loss is :  2.2217443\n",
      "loss is :  2.2187574\n",
      "loss is :  2.2157824\n",
      "loss is :  2.2128184\n",
      "loss is :  2.2098656\n",
      "loss is :  2.2069235\n",
      "loss is :  2.2039928\n",
      "loss is :  2.201073\n",
      "loss is :  2.198164\n",
      "loss is :  2.1952653\n",
      "loss is :  2.1923773\n",
      "loss is :  2.1894999\n",
      "loss is :  2.1866326\n",
      "loss is :  2.1837761\n",
      "loss is :  2.1809297\n",
      "loss is :  2.1780934\n",
      "loss is :  2.175267\n",
      "loss is :  2.172451\n",
      "loss is :  2.1696446\n",
      "loss is :  2.1668482\n",
      "loss is :  2.164061\n",
      "loss is :  2.1612844\n",
      "loss is :  2.1585171\n",
      "loss is :  2.1557589\n",
      "loss is :  2.1530106\n",
      "loss is :  2.1502717\n",
      "loss is :  2.147542\n",
      "loss is :  2.1448214\n",
      "loss is :  2.14211\n",
      "loss is :  2.139408\n",
      "loss is :  2.136715\n",
      "loss is :  2.1340308\n",
      "loss is :  2.1313558\n",
      "loss is :  2.1286898\n",
      "loss is :  2.1260319\n",
      "loss is :  2.1233835\n",
      "loss is :  2.1207435\n",
      "loss is :  2.118112\n",
      "loss is :  2.1154892\n",
      "loss is :  2.1128752\n",
      "loss is :  2.1102695\n",
      "loss is :  2.1076722\n",
      "loss is :  2.1050835\n",
      "loss is :  2.1025028\n",
      "loss is :  2.0999303\n",
      "loss is :  2.0973663\n",
      "loss is :  2.0948102\n",
      "loss is :  2.0922627\n",
      "loss is :  2.089723\n",
      "loss is :  2.087191\n",
      "loss is :  2.0846677\n",
      "loss is :  2.082152\n",
      "loss is :  2.0796444\n",
      "loss is :  2.0771444\n",
      "loss is :  2.0746522\n",
      "loss is :  2.072168\n",
      "loss is :  2.0696914\n",
      "loss is :  2.0672228\n",
      "loss is :  2.0647616\n",
      "loss is :  2.062308\n",
      "loss is :  2.0598624\n",
      "loss is :  2.0574243\n",
      "loss is :  2.0549932\n",
      "loss is :  2.05257\n",
      "loss is :  2.0501542\n",
      "loss is :  2.0477462\n",
      "loss is :  2.045345\n",
      "loss is :  2.0429516\n",
      "loss is :  2.0405655\n",
      "loss is :  2.0381868\n",
      "loss is :  2.0358152\n",
      "loss is :  2.033451\n",
      "loss is :  2.0310943\n",
      "loss is :  2.0287445\n",
      "loss is :  2.026402\n",
      "loss is :  2.0240667\n",
      "loss is :  2.0217383\n",
      "loss is :  2.0194175\n",
      "loss is :  2.0171037\n",
      "loss is :  2.0147967\n",
      "loss is :  2.0124972\n",
      "loss is :  2.0102048\n",
      "loss is :  2.0079193\n",
      "loss is :  2.0056405\n",
      "loss is :  2.0033693\n",
      "loss is :  2.0011044\n",
      "loss is :  1.998847\n",
      "loss is :  1.9965966\n",
      "loss is :  1.9943532\n",
      "loss is :  1.9921166\n",
      "loss is :  1.9898868\n",
      "loss is :  1.987664\n",
      "loss is :  1.985448\n",
      "loss is :  1.9832393\n",
      "loss is :  1.9810374\n",
      "loss is :  1.9788424\n",
      "loss is :  1.9766538\n",
      "loss is :  1.9744725\n",
      "loss is :  1.9722981\n",
      "loss is :  1.9701304\n",
      "loss is :  1.9679698\n",
      "loss is :  1.965816\n",
      "loss is :  1.9636688\n",
      "loss is :  1.9615285\n",
      "loss is :  1.9593954\n",
      "loss is :  1.9572688\n",
      "loss is :  1.9551493\n",
      "loss is :  1.9530363\n",
      "loss is :  1.9509306\n",
      "loss is :  1.9488317\n",
      "loss is :  1.9467392\n",
      "loss is :  1.9446541\n",
      "loss is :  1.9425753\n",
      "loss is :  1.9405037\n",
      "loss is :  1.9384389\n",
      "loss is :  1.936381\n",
      "loss is :  1.93433\n",
      "loss is :  1.9322858\n",
      "loss is :  1.9302485\n",
      "loss is :  1.9282179\n",
      "loss is :  1.9261943\n",
      "loss is :  1.9241778\n",
      "loss is :  1.9221678\n",
      "loss is :  1.9201651\n",
      "loss is :  1.9181691\n",
      "loss is :  1.9161804\n",
      "loss is :  1.9141983\n",
      "loss is :  1.9122233\n",
      "loss is :  1.910255\n",
      "loss is :  1.908294\n",
      "loss is :  1.90634\n",
      "loss is :  1.904393\n",
      "loss is :  1.9024526\n",
      "loss is :  1.9005196\n",
      "loss is :  1.8985937\n",
      "loss is :  1.8966746\n",
      "loss is :  1.8947624\n",
      "loss is :  1.8928577\n",
      "loss is :  1.89096\n",
      "loss is :  1.8890693\n",
      "loss is :  1.8871855\n",
      "loss is :  1.8853091\n",
      "loss is :  1.8834399\n",
      "loss is :  1.8815778\n",
      "loss is :  1.8797231\n",
      "loss is :  1.8778752\n",
      "loss is :  1.8760346\n",
      "loss is :  1.8742013\n",
      "loss is :  1.872375\n",
      "loss is :  1.8705564\n",
      "loss is :  1.8687449\n",
      "loss is :  1.8669406\n",
      "loss is :  1.8651437\n",
      "loss is :  1.863354\n",
      "loss is :  1.8615717\n",
      "loss is :  1.8597968\n",
      "loss is :  1.8580294\n",
      "loss is :  1.8562692\n",
      "loss is :  1.8545164\n",
      "loss is :  1.852771\n",
      "loss is :  1.8510332\n",
      "loss is :  1.8493028\n",
      "loss is :  1.84758\n",
      "loss is :  1.8458647\n",
      "loss is :  1.8441569\n",
      "loss is :  1.8424563\n",
      "loss is :  1.8407637\n",
      "loss is :  1.8390782\n",
      "loss is :  1.8374007\n",
      "loss is :  1.8357308\n",
      "loss is :  1.8340682\n",
      "loss is :  1.8324134\n",
      "loss is :  1.8307662\n",
      "loss is :  1.8291268\n",
      "loss is :  1.827495\n",
      "loss is :  1.8258709\n",
      "loss is :  1.8242544\n",
      "loss is :  1.822646\n",
      "loss is :  1.8210449\n",
      "loss is :  1.8194517\n",
      "loss is :  1.8178663\n",
      "loss is :  1.8162888\n",
      "loss is :  1.814719\n",
      "loss is :  1.813157\n",
      "loss is :  1.8116027\n",
      "loss is :  1.8100562\n",
      "loss is :  1.8085178\n",
      "loss is :  1.8069872\n",
      "loss is :  1.8054645\n",
      "loss is :  1.8039495\n",
      "loss is :  1.8024424\n",
      "loss is :  1.8009433\n",
      "loss is :  1.7994521\n",
      "loss is :  1.7979689\n",
      "loss is :  1.7964933\n",
      "loss is :  1.795026\n",
      "loss is :  1.7935665\n",
      "loss is :  1.7921147\n",
      "loss is :  1.7906712\n",
      "loss is :  1.7892352\n",
      "loss is :  1.7878077\n",
      "loss is :  1.7863879\n",
      "loss is :  1.784976\n",
      "loss is :  1.7835722\n",
      "loss is :  1.7821761\n",
      "loss is :  1.7807883\n",
      "loss is :  1.7794085\n",
      "loss is :  1.7780365\n",
      "loss is :  1.7766722\n",
      "loss is :  1.7753162\n",
      "loss is :  1.773968\n",
      "loss is :  1.7726278\n",
      "loss is :  1.7712957\n",
      "loss is :  1.7699714\n",
      "loss is :  1.7686551\n",
      "loss is :  1.7673465\n",
      "loss is :  1.7660462\n",
      "loss is :  1.7647536\n",
      "loss is :  1.7634689\n",
      "loss is :  1.7621922\n",
      "loss is :  1.7609233\n",
      "loss is :  1.7596623\n",
      "loss is :  1.7584091\n",
      "loss is :  1.7571638\n",
      "loss is :  1.7559264\n",
      "loss is :  1.7546968\n",
      "loss is :  1.7534751\n",
      "loss is :  1.7522609\n",
      "loss is :  1.7510546\n",
      "loss is :  1.7498561\n",
      "loss is :  1.7486655\n",
      "loss is :  1.7474824\n",
      "loss is :  1.746307\n",
      "loss is :  1.7451392\n",
      "loss is :  1.7439793\n",
      "loss is :  1.7428269\n",
      "loss is :  1.741682\n",
      "loss is :  1.7405449\n",
      "loss is :  1.7394152\n",
      "loss is :  1.7382932\n",
      "loss is :  1.7371787\n",
      "loss is :  1.7360715\n",
      "loss is :  1.7349719\n",
      "loss is :  1.7338796\n",
      "loss is :  1.7327946\n",
      "loss is :  1.7317171\n",
      "loss is :  1.7306471\n",
      "loss is :  1.7295843\n",
      "loss is :  1.7285287\n",
      "loss is :  1.7274803\n",
      "loss is :  1.7264392\n",
      "loss is :  1.7254053\n",
      "loss is :  1.7243785\n",
      "loss is :  1.7233589\n",
      "loss is :  1.7223462\n",
      "loss is :  1.7213404\n",
      "loss is :  1.7203418\n",
      "loss is :  1.7193502\n",
      "loss is :  1.7183653\n",
      "loss is :  1.7173873\n",
      "loss is :  1.7164164\n",
      "loss is :  1.7154522\n",
      "loss is :  1.7144947\n",
      "loss is :  1.7135438\n",
      "loss is :  1.7125996\n",
      "loss is :  1.711662\n",
      "loss is :  1.7107314\n",
      "loss is :  1.7098068\n",
      "loss is :  1.708889\n",
      "loss is :  1.7079778\n",
      "loss is :  1.7070725\n",
      "loss is :  1.706174\n",
      "loss is :  1.7052817\n",
      "loss is :  1.7043958\n",
      "loss is :  1.7035159\n",
      "loss is :  1.7026423\n",
      "loss is :  1.701775\n",
      "loss is :  1.7009135\n",
      "loss is :  1.7000585\n",
      "loss is :  1.6992091\n",
      "loss is :  1.6983658\n",
      "loss is :  1.6975284\n",
      "loss is :  1.6966969\n",
      "loss is :  1.6958711\n",
      "loss is :  1.6950512\n",
      "loss is :  1.694237\n",
      "loss is :  1.6934285\n",
      "loss is :  1.6926256\n",
      "loss is :  1.6918283\n",
      "loss is :  1.6910365\n",
      "loss is :  1.69025\n",
      "loss is :  1.6894692\n",
      "loss is :  1.6886939\n",
      "loss is :  1.6879237\n",
      "loss is :  1.6871587\n",
      "loss is :  1.686399\n",
      "loss is :  1.6856447\n",
      "loss is :  1.6848955\n",
      "loss is :  1.6841512\n",
      "loss is :  1.6834122\n",
      "loss is :  1.682678\n",
      "loss is :  1.6819489\n",
      "loss is :  1.6812248\n",
      "loss is :  1.6805054\n",
      "loss is :  1.6797907\n",
      "loss is :  1.6790808\n",
      "loss is :  1.678376\n",
      "loss is :  1.6776755\n",
      "loss is :  1.6769799\n",
      "loss is :  1.6762886\n",
      "loss is :  1.675602\n",
      "loss is :  1.6749201\n",
      "loss is :  1.6742421\n",
      "loss is :  1.6735687\n",
      "loss is :  1.6728998\n",
      "loss is :  1.6722353\n"
     ]
    },
    {
     "name": "stdout",
     "output_type": "stream",
     "text": [
      "loss is :  1.6715748\n",
      "loss is :  1.6709188\n",
      "loss is :  1.6702667\n",
      "loss is :  1.6696188\n",
      "loss is :  1.6689751\n",
      "loss is :  1.6683356\n",
      "loss is :  1.6676996\n",
      "loss is :  1.6670679\n",
      "loss is :  1.6664401\n",
      "loss is :  1.6658161\n",
      "loss is :  1.665196\n",
      "loss is :  1.6645796\n",
      "loss is :  1.663967\n",
      "loss is :  1.663358\n",
      "loss is :  1.662753\n",
      "loss is :  1.6621513\n",
      "loss is :  1.6615533\n",
      "loss is :  1.6609588\n",
      "loss is :  1.6603678\n",
      "loss is :  1.6597804\n",
      "loss is :  1.6591963\n",
      "loss is :  1.6586157\n",
      "loss is :  1.6580383\n",
      "loss is :  1.6574643\n",
      "loss is :  1.6568937\n",
      "loss is :  1.6563263\n",
      "loss is :  1.655762\n",
      "loss is :  1.6552008\n",
      "loss is :  1.6546429\n",
      "loss is :  1.654088\n",
      "loss is :  1.6535362\n",
      "loss is :  1.6529875\n",
      "loss is :  1.6524419\n",
      "loss is :  1.6518991\n",
      "loss is :  1.6513592\n",
      "loss is :  1.6508223\n",
      "loss is :  1.6502881\n",
      "loss is :  1.6497568\n",
      "loss is :  1.6492283\n",
      "loss is :  1.6487027\n",
      "loss is :  1.6481798\n",
      "loss is :  1.6476598\n",
      "loss is :  1.6471419\n",
      "loss is :  1.6466272\n",
      "loss is :  1.6461147\n",
      "loss is :  1.6456051\n",
      "loss is :  1.6450981\n",
      "loss is :  1.6445934\n",
      "loss is :  1.6440914\n",
      "loss is :  1.6435918\n",
      "loss is :  1.6430945\n",
      "loss is :  1.6425999\n",
      "loss is :  1.6421074\n",
      "loss is :  1.6416175\n",
      "loss is :  1.6411297\n",
      "loss is :  1.6406446\n",
      "loss is :  1.6401615\n",
      "loss is :  1.6396806\n",
      "loss is :  1.6392022\n",
      "loss is :  1.638726\n",
      "loss is :  1.6382519\n",
      "loss is :  1.6377798\n",
      "loss is :  1.6373101\n",
      "loss is :  1.6368424\n",
      "loss is :  1.6363767\n",
      "loss is :  1.6359133\n",
      "loss is :  1.6354519\n",
      "loss is :  1.6349925\n",
      "loss is :  1.6345353\n",
      "loss is :  1.6340797\n",
      "loss is :  1.6336263\n",
      "loss is :  1.633175\n",
      "loss is :  1.6327254\n",
      "loss is :  1.6322777\n",
      "loss is :  1.6318319\n",
      "loss is :  1.6313881\n",
      "loss is :  1.6309462\n",
      "loss is :  1.6305058\n",
      "loss is :  1.6300675\n",
      "loss is :  1.6296309\n",
      "loss is :  1.629196\n",
      "loss is :  1.6287631\n",
      "loss is :  1.6283317\n",
      "loss is :  1.627902\n",
      "loss is :  1.6274744\n",
      "loss is :  1.627048\n",
      "loss is :  1.6266237\n",
      "loss is :  1.6262008\n",
      "loss is :  1.6257796\n",
      "loss is :  1.62536\n",
      "loss is :  1.6249421\n",
      "loss is :  1.6245258\n",
      "loss is :  1.6241109\n",
      "loss is :  1.6236978\n",
      "loss is :  1.623286\n",
      "loss is :  1.6228759\n",
      "loss is :  1.6224673\n",
      "loss is :  1.6220601\n",
      "loss is :  1.6216545\n",
      "loss is :  1.6212503\n",
      "loss is :  1.6208477\n",
      "loss is :  1.6204464\n",
      "loss is :  1.6200466\n",
      "loss is :  1.6196485\n",
      "loss is :  1.6192513\n",
      "loss is :  1.6188558\n",
      "loss is :  1.6184617\n",
      "loss is :  1.6180688\n",
      "loss is :  1.6176776\n",
      "loss is :  1.6172875\n",
      "loss is :  1.6168987\n",
      "loss is :  1.6165113\n",
      "loss is :  1.6161252\n",
      "loss is :  1.6157405\n",
      "loss is :  1.615357\n",
      "loss is :  1.6149747\n",
      "loss is :  1.614594\n",
      "loss is :  1.6142143\n",
      "loss is :  1.6138358\n",
      "loss is :  1.6134588\n",
      "loss is :  1.6130828\n",
      "loss is :  1.6127081\n",
      "loss is :  1.6123346\n",
      "loss is :  1.6119623\n",
      "loss is :  1.6115913\n",
      "loss is :  1.6112213\n",
      "loss is :  1.6108527\n",
      "loss is :  1.6104852\n",
      "loss is :  1.6101187\n",
      "loss is :  1.6097536\n",
      "loss is :  1.6093894\n",
      "loss is :  1.6090264\n",
      "loss is :  1.6086645\n",
      "loss is :  1.6083039\n",
      "loss is :  1.6079443\n",
      "loss is :  1.6075858\n",
      "loss is :  1.6072283\n",
      "loss is :  1.606872\n",
      "loss is :  1.6065168\n",
      "loss is :  1.6061624\n",
      "loss is :  1.6058093\n",
      "loss is :  1.6054573\n",
      "loss is :  1.6051061\n",
      "loss is :  1.6047561\n",
      "loss is :  1.6044073\n",
      "loss is :  1.6040592\n",
      "loss is :  1.6037123\n",
      "loss is :  1.6033663\n",
      "loss is :  1.6030214\n",
      "loss is :  1.6026776\n",
      "loss is :  1.6023346\n",
      "loss is :  1.6019926\n",
      "loss is :  1.6016517\n",
      "loss is :  1.6013116\n",
      "loss is :  1.6009725\n",
      "loss is :  1.6006346\n",
      "loss is :  1.6002973\n",
      "loss is :  1.5999613\n",
      "loss is :  1.5996258\n",
      "loss is :  1.5992918\n",
      "loss is :  1.5989581\n",
      "loss is :  1.5986257\n",
      "loss is :  1.5982943\n",
      "loss is :  1.5979635\n",
      "loss is :  1.597634\n",
      "loss is :  1.5973049\n",
      "loss is :  1.5969771\n",
      "loss is :  1.5966501\n",
      "loss is :  1.5963238\n",
      "loss is :  1.5959986\n",
      "loss is :  1.5956743\n",
      "loss is :  1.5953507\n",
      "loss is :  1.595028\n",
      "loss is :  1.5947063\n",
      "loss is :  1.5943853\n",
      "loss is :  1.5940653\n",
      "loss is :  1.5937458\n",
      "loss is :  1.5934275\n",
      "loss is :  1.5931101\n",
      "loss is :  1.5927931\n",
      "loss is :  1.5924773\n",
      "loss is :  1.5921621\n",
      "loss is :  1.5918478\n",
      "loss is :  1.5915345\n",
      "loss is :  1.5912218\n",
      "loss is :  1.59091\n",
      "loss is :  1.5905988\n",
      "loss is :  1.5902886\n",
      "loss is :  1.5899793\n",
      "loss is :  1.5896705\n",
      "loss is :  1.5893625\n",
      "loss is :  1.5890554\n",
      "loss is :  1.5887492\n",
      "loss is :  1.5884438\n",
      "loss is :  1.588139\n",
      "loss is :  1.5878348\n",
      "loss is :  1.5875317\n",
      "loss is :  1.5872291\n",
      "loss is :  1.5869274\n",
      "loss is :  1.5866264\n",
      "loss is :  1.5863262\n",
      "loss is :  1.5860267\n",
      "loss is :  1.5857279\n",
      "loss is :  1.5854299\n",
      "loss is :  1.5851326\n",
      "loss is :  1.584836\n",
      "loss is :  1.5845401\n",
      "loss is :  1.5842451\n",
      "loss is :  1.5839508\n",
      "loss is :  1.583657\n",
      "loss is :  1.583364\n",
      "loss is :  1.5830718\n",
      "loss is :  1.5827801\n",
      "loss is :  1.5824895\n",
      "loss is :  1.5821992\n",
      "loss is :  1.5819099\n",
      "loss is :  1.581621\n",
      "loss is :  1.5813329\n",
      "loss is :  1.5810457\n",
      "loss is :  1.5807589\n",
      "loss is :  1.5804731\n",
      "loss is :  1.5801877\n",
      "loss is :  1.579903\n",
      "loss is :  1.579619\n",
      "loss is :  1.5793356\n",
      "loss is :  1.579053\n",
      "loss is :  1.5787711\n",
      "loss is :  1.5784898\n",
      "loss is :  1.578209\n",
      "loss is :  1.5779291\n",
      "loss is :  1.5776497\n",
      "loss is :  1.5773712\n",
      "loss is :  1.577093\n",
      "loss is :  1.5768157\n",
      "loss is :  1.5765389\n",
      "loss is :  1.5762626\n",
      "loss is :  1.5759873\n",
      "loss is :  1.5757124\n",
      "loss is :  1.5754385\n",
      "loss is :  1.5751648\n",
      "loss is :  1.5748917\n",
      "loss is :  1.5746194\n",
      "loss is :  1.5743477\n",
      "loss is :  1.5740767\n",
      "loss is :  1.5738062\n",
      "loss is :  1.5735364\n",
      "loss is :  1.5732672\n",
      "loss is :  1.5729986\n",
      "loss is :  1.5727305\n",
      "loss is :  1.572463\n",
      "loss is :  1.5721964\n",
      "loss is :  1.5719303\n",
      "loss is :  1.5716646\n",
      "loss is :  1.5713995\n",
      "loss is :  1.5711353\n",
      "loss is :  1.5708714\n",
      "loss is :  1.5706081\n",
      "loss is :  1.5703455\n",
      "loss is :  1.5700835\n",
      "loss is :  1.5698221\n",
      "loss is :  1.569561\n",
      "loss is :  1.5693008\n",
      "loss is :  1.5690411\n",
      "loss is :  1.5687819\n",
      "loss is :  1.5685234\n",
      "loss is :  1.5682653\n",
      "loss is :  1.5680078\n",
      "loss is :  1.5677512\n",
      "loss is :  1.5674948\n",
      "loss is :  1.5672389\n",
      "loss is :  1.5669838\n",
      "loss is :  1.5667294\n",
      "loss is :  1.5664752\n",
      "loss is :  1.5662217\n",
      "loss is :  1.5659686\n",
      "loss is :  1.5657164\n",
      "loss is :  1.5654645\n",
      "loss is :  1.5652132\n",
      "loss is :  1.5649625\n",
      "loss is :  1.5647123\n",
      "loss is :  1.5644628\n",
      "loss is :  1.5642136\n",
      "loss is :  1.563965\n",
      "loss is :  1.563717\n",
      "loss is :  1.5634693\n",
      "loss is :  1.5632224\n",
      "loss is :  1.5629759\n",
      "loss is :  1.56273\n",
      "loss is :  1.5624846\n",
      "loss is :  1.5622398\n",
      "loss is :  1.5619954\n",
      "loss is :  1.5617514\n",
      "loss is :  1.5615082\n",
      "loss is :  1.5612655\n",
      "loss is :  1.5610232\n",
      "loss is :  1.5607815\n",
      "loss is :  1.5605402\n",
      "loss is :  1.5602995\n",
      "loss is :  1.5600594\n",
      "loss is :  1.5598196\n",
      "loss is :  1.5595803\n",
      "loss is :  1.5593417\n",
      "loss is :  1.5591034\n",
      "loss is :  1.5588657\n",
      "loss is :  1.5586287\n",
      "loss is :  1.558392\n",
      "loss is :  1.5581558\n",
      "loss is :  1.5579199\n",
      "loss is :  1.5576848\n",
      "loss is :  1.5574502\n",
      "loss is :  1.5572158\n",
      "loss is :  1.5569822\n",
      "loss is :  1.5567489\n",
      "loss is :  1.556516\n",
      "loss is :  1.5562837\n",
      "loss is :  1.5560521\n",
      "loss is :  1.5558207\n",
      "loss is :  1.5555899\n",
      "loss is :  1.5553596\n",
      "loss is :  1.5551296\n",
      "loss is :  1.5549002\n",
      "loss is :  1.5546713\n",
      "loss is :  1.5544429\n",
      "loss is :  1.5542148\n",
      "loss is :  1.5539874\n",
      "loss is :  1.5537604\n",
      "loss is :  1.5535337\n",
      "loss is :  1.5533075\n",
      "loss is :  1.553082\n",
      "loss is :  1.5528568\n",
      "loss is :  1.552632\n",
      "loss is :  1.5524077\n",
      "loss is :  1.5521841\n",
      "loss is :  1.5519606\n",
      "loss is :  1.5517378\n",
      "loss is :  1.5515152\n",
      "loss is :  1.5512933\n",
      "loss is :  1.5510718\n",
      "loss is :  1.5508506\n",
      "loss is :  1.55063\n",
      "loss is :  1.5504098\n",
      "loss is :  1.55019\n",
      "loss is :  1.5499706\n",
      "loss is :  1.5497518\n",
      "loss is :  1.5495332\n",
      "loss is :  1.5493153\n",
      "loss is :  1.5490977\n",
      "loss is :  1.5488806\n",
      "loss is :  1.548664\n",
      "loss is :  1.5484476\n",
      "loss is :  1.5482318\n",
      "loss is :  1.5480165\n",
      "loss is :  1.5478015\n",
      "loss is :  1.547587\n",
      "loss is :  1.5473729\n",
      "loss is :  1.5471592\n",
      "loss is :  1.546946\n",
      "loss is :  1.5467331\n",
      "loss is :  1.5465207\n",
      "loss is :  1.5463088\n",
      "loss is :  1.5460973\n",
      "loss is :  1.545886\n",
      "loss is :  1.5456753\n",
      "loss is :  1.545465\n",
      "loss is :  1.5452551\n",
      "loss is :  1.5450457\n",
      "loss is :  1.5448365\n",
      "loss is :  1.544628\n",
      "loss is :  1.5444196\n",
      "loss is :  1.5442117\n",
      "loss is :  1.5440044\n",
      "loss is :  1.5437975\n",
      "loss is :  1.5435908\n",
      "loss is :  1.5433846\n",
      "loss is :  1.5431788\n",
      "loss is :  1.5429734\n",
      "loss is :  1.5427682\n",
      "loss is :  1.5425637\n",
      "loss is :  1.5423595\n",
      "loss is :  1.5421556\n",
      "loss is :  1.5419523\n",
      "loss is :  1.5417491\n",
      "loss is :  1.5415465\n",
      "loss is :  1.5413444\n",
      "loss is :  1.5411426\n",
      "loss is :  1.540941\n",
      "loss is :  1.54074\n",
      "loss is :  1.5405394\n",
      "loss is :  1.540339\n",
      "loss is :  1.5401392\n",
      "loss is :  1.5399395\n",
      "loss is :  1.5397406\n",
      "loss is :  1.5395416\n",
      "loss is :  1.5393432\n",
      "loss is :  1.5391454\n",
      "loss is :  1.5389476\n",
      "loss is :  1.5387504\n",
      "loss is :  1.5385535\n",
      "loss is :  1.538357\n",
      "loss is :  1.538161\n",
      "loss is :  1.537965\n",
      "loss is :  1.5377699\n",
      "loss is :  1.5375748\n",
      "loss is :  1.5373802\n",
      "loss is :  1.5371858\n",
      "loss is :  1.5369921\n",
      "loss is :  1.5367985\n",
      "loss is :  1.5366054\n",
      "loss is :  1.5364124\n",
      "loss is :  1.5362201\n",
      "loss is :  1.5360279\n",
      "loss is :  1.5358362\n",
      "loss is :  1.5356449\n",
      "loss is :  1.5354539\n",
      "loss is :  1.5352633\n",
      "loss is :  1.535073\n",
      "loss is :  1.5348831\n",
      "loss is :  1.5346937\n",
      "loss is :  1.5345043\n",
      "loss is :  1.5343156\n",
      "loss is :  1.534127\n",
      "loss is :  1.5339388\n",
      "loss is :  1.533751\n",
      "loss is :  1.5335635\n",
      "loss is :  1.5333765\n",
      "loss is :  1.5331897\n",
      "loss is :  1.5330033\n",
      "loss is :  1.5328172\n",
      "loss is :  1.5326315\n",
      "loss is :  1.5324461\n",
      "loss is :  1.532261\n",
      "loss is :  1.5320764\n",
      "loss is :  1.531892\n",
      "loss is :  1.531708\n",
      "loss is :  1.5315243\n",
      "loss is :  1.531341\n",
      "loss is :  1.5311579\n",
      "loss is :  1.5309753\n",
      "loss is :  1.5307931\n",
      "loss is :  1.5306109\n",
      "loss is :  1.5304292\n",
      "loss is :  1.5302479\n",
      "loss is :  1.530067\n",
      "loss is :  1.5298862\n",
      "loss is :  1.529706\n",
      "loss is :  1.5295259\n",
      "loss is :  1.529346\n",
      "loss is :  1.5291668\n",
      "loss is :  1.5289876\n",
      "loss is :  1.5288091\n",
      "loss is :  1.5286306\n",
      "loss is :  1.5284525\n",
      "loss is :  1.5282748\n",
      "loss is :  1.5280975\n",
      "loss is :  1.5279202\n",
      "loss is :  1.5277435\n",
      "loss is :  1.5275669\n",
      "loss is :  1.5273908\n",
      "loss is :  1.527215\n",
      "loss is :  1.5270395\n",
      "loss is :  1.5268643\n",
      "loss is :  1.5266893\n",
      "loss is :  1.5265149\n",
      "loss is :  1.5263406\n",
      "loss is :  1.5261667\n",
      "loss is :  1.525993\n",
      "loss is :  1.5258197\n",
      "loss is :  1.5256467\n",
      "loss is :  1.5254738\n",
      "loss is :  1.5253015\n",
      "loss is :  1.5251293\n",
      "loss is :  1.5249575\n",
      "loss is :  1.524786\n",
      "loss is :  1.5246148\n",
      "loss is :  1.5244437\n",
      "loss is :  1.5242734\n",
      "loss is :  1.524103\n",
      "loss is :  1.523933\n",
      "loss is :  1.5237633\n",
      "loss is :  1.523594\n",
      "loss is :  1.523425\n",
      "loss is :  1.523256\n"
     ]
    },
    {
     "name": "stdout",
     "output_type": "stream",
     "text": [
      "loss is :  1.5230875\n",
      "loss is :  1.5229193\n",
      "loss is :  1.5227513\n",
      "loss is :  1.5225838\n",
      "loss is :  1.5224164\n",
      "loss is :  1.5222495\n",
      "loss is :  1.5220824\n",
      "loss is :  1.5219162\n",
      "loss is :  1.5217499\n",
      "loss is :  1.521584\n",
      "loss is :  1.5214185\n",
      "loss is :  1.521253\n",
      "loss is :  1.5210881\n",
      "loss is :  1.5209234\n",
      "loss is :  1.5207589\n",
      "loss is :  1.5205946\n",
      "loss is :  1.5204309\n",
      "loss is :  1.5202672\n",
      "loss is :  1.5201039\n",
      "loss is :  1.5199409\n",
      "loss is :  1.5197781\n",
      "loss is :  1.5196157\n",
      "loss is :  1.5194534\n",
      "loss is :  1.5192915\n",
      "loss is :  1.5191299\n",
      "loss is :  1.5189685\n",
      "loss is :  1.5188074\n",
      "loss is :  1.5186465\n",
      "loss is :  1.5184859\n",
      "loss is :  1.5183257\n",
      "loss is :  1.5181656\n",
      "loss is :  1.5180058\n",
      "loss is :  1.5178463\n",
      "loss is :  1.5176873\n",
      "loss is :  1.5175283\n",
      "loss is :  1.5173695\n",
      "loss is :  1.5172112\n",
      "loss is :  1.517053\n",
      "loss is :  1.5168953\n",
      "loss is :  1.5167376\n",
      "loss is :  1.5165802\n",
      "loss is :  1.5164232\n",
      "loss is :  1.5162665\n",
      "loss is :  1.5161098\n",
      "loss is :  1.5159538\n",
      "loss is :  1.5157976\n"
     ]
    }
   ],
   "source": [
    "n_iters = 1000\n",
    "\n",
    "# train for n_iter iterations\n",
    "for _ in range(n_iters):\n",
    "    sess.run(train_step, feed_dict={x: x_train, y_label: y_train})\n",
    "    print('loss is : ', sess.run(cross_entropy_loss, feed_dict={x: x_train, y_label: y_train}))"
   ]
  },
  {
   "cell_type": "code",
   "execution_count": 21,
   "metadata": {},
   "outputs": [],
   "source": [
    "vectors = sess.run(W1 + b1)"
   ]
  },
  {
   "cell_type": "code",
   "execution_count": 22,
   "metadata": {},
   "outputs": [
    {
     "data": {
      "text/plain": [
       "(8, 5)"
      ]
     },
     "execution_count": 22,
     "metadata": {},
     "output_type": "execute_result"
    }
   ],
   "source": [
    "vectors.shape"
   ]
  },
  {
   "cell_type": "code",
   "execution_count": 23,
   "metadata": {},
   "outputs": [
    {
     "data": {
      "text/plain": [
       "array([[ 0.03858566, -2.818101  ,  2.5346894 ,  0.86590457,  0.76701087],\n",
       "       [ 1.1270692 ,  1.0639219 ,  2.671502  ,  1.0278306 , -0.04146618],\n",
       "       [-1.1114675 , -1.337134  ,  2.6089437 ,  1.4320363 , -2.1856148 ],\n",
       "       [-1.8834751 , -1.2093277 ,  2.0972528 ,  3.244616  , -1.4914255 ],\n",
       "       [-0.8105009 , -0.4053041 ,  2.2021155 ,  0.2340743 , -0.21584159],\n",
       "       [ 0.01119256, -1.5985925 ,  2.816031  ,  1.821766  , -1.8548124 ],\n",
       "       [-0.8927945 , -3.150248  ,  2.6699474 , -0.54789126, -2.267195  ],\n",
       "       [ 0.38630384,  0.01898694,  0.09588432, -0.66732097, -0.4644513 ]],\n",
       "      dtype=float32)"
      ]
     },
     "execution_count": 23,
     "metadata": {},
     "output_type": "execute_result"
    }
   ],
   "source": [
    "vectors"
   ]
  },
  {
   "cell_type": "code",
   "execution_count": null,
   "metadata": {},
   "outputs": [],
   "source": [
    "# def euclidean_dist(vec1, vec2):\n",
    "#     return np.sqrt(np.sum((vec1-vec2)**2))\n",
    "\n",
    "# def find_closest(word_index, vectors):\n",
    "#     min_dist = 10000 # to act like positive infinity\n",
    "#     min_index = -1\n",
    "#     query_vector = vectors[word_index]\n",
    "#     for index, vector in enumerate(vectors):\n",
    "#         if euclidean_dist(vector, query_vector) < min_dist and not np.array_equal(vector, query_vector):\n",
    "#             min_dist = euclidean_dist(vector, query_vector)\n",
    "#             min_index = index\n",
    "#     return min_index"
   ]
  },
  {
   "cell_type": "code",
   "execution_count": 24,
   "metadata": {},
   "outputs": [],
   "source": [
    "# t-SNE\n",
    "from sklearn.manifold import TSNE\n",
    "\n",
    "model = TSNE(n_components=2, random_state=0)\n",
    "\n",
    "vectors = model.fit_transform(vectors) "
   ]
  },
  {
   "cell_type": "code",
   "execution_count": 25,
   "metadata": {},
   "outputs": [
    {
     "name": "stdout",
     "output_type": "stream",
     "text": [
      "[[-0.32764003 -0.94480264]\n",
      " [-0.5155788  -0.8568421 ]\n",
      " [ 0.77282786  0.6346157 ]\n",
      " [-0.90836805  0.41817167]\n",
      " [-0.746742   -0.6651138 ]\n",
      " [-0.97995895 -0.19919932]\n",
      " [ 0.18610042 -0.9825308 ]\n",
      " [ 0.7051604  -0.7090478 ]]\n"
     ]
    }
   ],
   "source": [
    "from sklearn import preprocessing\n",
    "\n",
    "normalizer = preprocessing.Normalizer()\n",
    "vectors =  normalizer.fit_transform(vectors, 'l2')\n",
    "\n",
    "print(vectors)"
   ]
  },
  {
   "cell_type": "code",
   "execution_count": 26,
   "metadata": {},
   "outputs": [
    {
     "data": {
      "text/plain": [
       "-0.8568421"
      ]
     },
     "execution_count": 26,
     "metadata": {},
     "output_type": "execute_result"
    }
   ],
   "source": [
    "vectors[word2int[word]][1]"
   ]
  },
  {
   "cell_type": "code",
   "execution_count": 27,
   "metadata": {},
   "outputs": [
    {
     "name": "stdout",
     "output_type": "stream",
     "text": [
      "{'king.', 'queen', 'she', 'royal', 'king', 'is', 'he', 'the'} \n",
      "\n"
     ]
    },
    {
     "data": {
      "image/png": "[encoded data removed]",
      "text/plain": [
       "<Figure size 432x288 with 1 Axes>"
      ]
     },
     "metadata": {
      "needs_background": "light"
     },
     "output_type": "display_data"
    }
   ],
   "source": [
    "import matplotlib.pyplot as plt\n",
    "%matplotlib inline\n",
    "\n",
    "print(words,\"\\n\")\n",
    "\n",
    "fig, ax = plt.subplots()\n",
    "for word in words:\n",
    "    ax.annotate(word, (vectors[word2int[word]][0],vectors[word2int[word]][1] ))\n",
    "plt.show()"
   ]
  },
  {
   "cell_type": "markdown",
   "metadata": {},
   "source": [
    "### Example II"
   ]
  },
  {
   "cell_type": "code",
   "execution_count": 30,
   "metadata": {},
   "outputs": [],
   "source": [
    "from sklearn.datasets import fetch_20newsgroups\n",
    "from sklearn.feature_extraction.text import TfidfVectorizer,CountVectorizer\n",
    "\n",
    "# we only want to keep the body of the documents!\n",
    "remove = ('headers', 'footers', 'quotes')\n",
    "\n",
    "categories = ['alt.atheism', 'talk.religion.misc', 'comp.graphics', 'sci.space']\n",
    "newsgroups_train = fetch_20newsgroups(subset=\"train\", categories=categories,remove=remove)\n",
    "newsgroups_test = fetch_20newsgroups(subset=\"test\", categories=categories,remove=remove)\n",
    "\n",
    "# only keep letters & make them all lower case\n",
    "news = [' '.join(filter(str.isalpha, raw.lower().split())) for raw in newsgroups_train.data + newsgroups_test.data]\n",
    "newsgroups = [' '.join(filter(str.isalpha, raw.lower().split())) for raw in newsgroups_train.data]"
   ]
  },
  {
   "cell_type": "code",
   "execution_count": 31,
   "metadata": {},
   "outputs": [
    {
     "name": "stdout",
     "output_type": "stream",
     "text": [
      "3387\n",
      "<class 'list'>\n"
     ]
    }
   ],
   "source": [
    "print(len(news))\n",
    "print(type(news))"
   ]
  },
  {
   "cell_type": "code",
   "execution_count": 32,
   "metadata": {},
   "outputs": [
    {
     "name": "stdout",
     "output_type": "stream",
     "text": [
      "2034\n",
      "<class 'list'>\n"
     ]
    }
   ],
   "source": [
    "print(len(newsgroups_train.data))\n",
    "print(type(newsgroups_train.data))"
   ]
  },
  {
   "cell_type": "code",
   "execution_count": 33,
   "metadata": {},
   "outputs": [],
   "source": [
    "vectorizer_n = TfidfVectorizer(stop_words='english',strip_accents='ascii',max_features=100)\n",
    "vector  = vectorizer_n.fit_transform(newsgroups)"
   ]
  },
  {
   "cell_type": "code",
   "execution_count": 34,
   "metadata": {},
   "outputs": [
    {
     "data": {
      "text/plain": [
       "(2034, 100)"
      ]
     },
     "execution_count": 34,
     "metadata": {},
     "output_type": "execute_result"
    }
   ],
   "source": [
    "vector.shape"
   ]
  },
  {
   "cell_type": "code",
   "execution_count": 35,
   "metadata": {},
   "outputs": [
    {
     "data": {
      "text/plain": [
       "'actually,evidence,actually,like,actually,thought'"
      ]
     },
     "execution_count": 35,
     "metadata": {},
     "output_type": "execute_result"
    }
   ],
   "source": [
    "# Get columns name with non-zero value \n",
    "\",\".join([vectorizer_n.get_feature_names()[i] for i in np.argwhere(vector[1]>0).ravel().tolist()])"
   ]
  },
  {
   "cell_type": "code",
   "execution_count": null,
   "metadata": {},
   "outputs": [],
   "source": [
    "# Here First, perform other dimension reduction technique like PCA, TruncatedSVD, etc. Than"
   ]
  },
  {
   "cell_type": "code",
   "execution_count": 36,
   "metadata": {
    "scrolled": true
   },
   "outputs": [
    {
     "name": "stdout",
     "output_type": "stream",
     "text": [
      "(2034, 50)\n",
      "[t-SNE] Computing 121 nearest neighbors...\n",
      "[t-SNE] Indexed 2034 samples in 0.004s...\n",
      "[t-SNE] Computed neighbors for 2034 samples in 0.462s...\n",
      "[t-SNE] Computed conditional probabilities for sample 1000 / 2034\n",
      "[t-SNE] Computed conditional probabilities for sample 2000 / 2034\n",
      "[t-SNE] Computed conditional probabilities for sample 2034 / 2034\n",
      "[t-SNE] Mean sigma: 0.000000\n",
      "[t-SNE] Computed conditional probabilities in 0.221s\n",
      "[t-SNE] Iteration 50: error = 71.3541641, gradient norm = 0.0538586 (50 iterations in 1.564s)\n",
      "[t-SNE] Iteration 100: error = 71.3379288, gradient norm = 0.0245511 (50 iterations in 1.775s)\n",
      "[t-SNE] Iteration 150: error = 71.3416214, gradient norm = 0.0322807 (50 iterations in 1.910s)\n",
      "[t-SNE] Iteration 200: error = 71.3380280, gradient norm = 0.0266951 (50 iterations in 1.932s)\n",
      "[t-SNE] Iteration 250: error = 71.3364716, gradient norm = 0.0234117 (50 iterations in 1.622s)\n",
      "[t-SNE] KL divergence after 250 iterations with early exaggeration: 71.336472\n",
      "[t-SNE] Iteration 300: error = 1.7702389, gradient norm = 0.0013877 (50 iterations in 1.082s)\n",
      "[t-SNE] Iteration 350: error = 1.6157637, gradient norm = 0.0004673 (50 iterations in 0.884s)\n",
      "[t-SNE] Iteration 400: error = 1.5535680, gradient norm = 0.0003192 (50 iterations in 0.870s)\n",
      "[t-SNE] Iteration 450: error = 1.5279913, gradient norm = 0.0002012 (50 iterations in 0.871s)\n",
      "[t-SNE] Iteration 500: error = 1.5142834, gradient norm = 0.0001394 (50 iterations in 0.872s)\n",
      "[t-SNE] Iteration 550: error = 1.5064808, gradient norm = 0.0001194 (50 iterations in 0.888s)\n",
      "[t-SNE] Iteration 600: error = 1.4998662, gradient norm = 0.0001251 (50 iterations in 0.893s)\n",
      "[t-SNE] Iteration 650: error = 1.4949250, gradient norm = 0.0001244 (50 iterations in 0.886s)\n",
      "[t-SNE] Iteration 700: error = 1.4925400, gradient norm = 0.0001153 (50 iterations in 0.908s)\n",
      "[t-SNE] Iteration 750: error = 1.4896806, gradient norm = 0.0001062 (50 iterations in 0.905s)\n",
      "[t-SNE] Iteration 800: error = 1.4876450, gradient norm = 0.0000776 (50 iterations in 0.892s)\n",
      "[t-SNE] Iteration 850: error = 1.4859401, gradient norm = 0.0000790 (50 iterations in 0.891s)\n",
      "[t-SNE] Iteration 900: error = 1.4839383, gradient norm = 0.0000688 (50 iterations in 0.887s)\n",
      "[t-SNE] Iteration 950: error = 1.4820505, gradient norm = 0.0000863 (50 iterations in 0.889s)\n",
      "[t-SNE] Iteration 1000: error = 1.4798282, gradient norm = 0.0000789 (50 iterations in 0.891s)\n",
      "[t-SNE] KL divergence after 1000 iterations: 1.479828\n"
     ]
    }
   ],
   "source": [
    "from sklearn.decomposition import TruncatedSVD\n",
    "X_reduced = TruncatedSVD(n_components=50, random_state=0).fit_transform(vector)\n",
    "\n",
    "print(X_reduced.shape)\n",
    "\n",
    "# fit t-sne\n",
    "from sklearn.manifold import TSNE\n",
    "X_embedded = TSNE(n_components=2, perplexity=40, verbose=2).fit_transform(X_reduced)"
   ]
  },
  {
   "cell_type": "code",
   "execution_count": 37,
   "metadata": {},
   "outputs": [
    {
     "name": "stdout",
     "output_type": "stream",
     "text": [
      "(2034, 2)\n"
     ]
    }
   ],
   "source": [
    "print(X_embedded.shape)"
   ]
  },
  {
   "cell_type": "code",
   "execution_count": 38,
   "metadata": {
    "scrolled": true
   },
   "outputs": [
    {
     "data": {
      "text/plain": [
       "['actually',\n",
       " 'argument',\n",
       " 'atheists',\n",
       " 'available',\n",
       " 'based',\n",
       " 'believe',\n",
       " 'better',\n",
       " 'bible',\n",
       " 'bit',\n",
       " 'book',\n",
       " 'called',\n",
       " 'center',\n",
       " 'christian',\n",
       " 'come',\n",
       " 'computer',\n",
       " 'data',\n",
       " 'did',\n",
       " 'different',\n",
       " 'does',\n",
       " 'earth',\n",
       " 'evidence',\n",
       " 'fact',\n",
       " 'far',\n",
       " 'file',\n",
       " 'files',\n",
       " 'following',\n",
       " 'free',\n",
       " 'ftp',\n",
       " 'general',\n",
       " 'given',\n",
       " 'god',\n",
       " 'going',\n",
       " 'good',\n",
       " 'got',\n",
       " 'graphics',\n",
       " 'help',\n",
       " 'image',\n",
       " 'images',\n",
       " 'information',\n",
       " 'jesus',\n",
       " 'jpeg',\n",
       " 'just',\n",
       " 'know',\n",
       " 'launch',\n",
       " 'life',\n",
       " 'like',\n",
       " 'line',\n",
       " 'little',\n",
       " 'long',\n",
       " 'look',\n",
       " 'lunar',\n",
       " 'make',\n",
       " 'mean',\n",
       " 'nasa',\n",
       " 'need',\n",
       " 'new',\n",
       " 'number',\n",
       " 'order',\n",
       " 'people',\n",
       " 'point',\n",
       " 'post',\n",
       " 'probably',\n",
       " 'problem',\n",
       " 'program',\n",
       " 'quite',\n",
       " 'read',\n",
       " 'real',\n",
       " 'really',\n",
       " 'religious',\n",
       " 'research',\n",
       " 'right',\n",
       " 'said',\n",
       " 'satellite',\n",
       " 'say',\n",
       " 'science',\n",
       " 'send',\n",
       " 'set',\n",
       " 'shuttle',\n",
       " 'software',\n",
       " 'space',\n",
       " 'support',\n",
       " 'sure',\n",
       " 'tell',\n",
       " 'thanks',\n",
       " 'thing',\n",
       " 'things',\n",
       " 'think',\n",
       " 'thought',\n",
       " 'time',\n",
       " 'true',\n",
       " 'try',\n",
       " 'use',\n",
       " 'used',\n",
       " 'using',\n",
       " 'version',\n",
       " 'want',\n",
       " 'way',\n",
       " 'work',\n",
       " 'world',\n",
       " 'years']"
      ]
     },
     "execution_count": 38,
     "metadata": {},
     "output_type": "execute_result"
    }
   ],
   "source": [
    "vectorizer_n.get_feature_names()"
   ]
  },
  {
   "cell_type": "code",
   "execution_count": 39,
   "metadata": {},
   "outputs": [],
   "source": [
    "word2vec = set(vectorizer_n.get_feature_names()) # so that all duplicate words are removed\n",
    "word2int = {}\n",
    "int2word = {}\n",
    "vocab_size = len(word2vec) # gives the total number of unique words\n",
    "\n",
    "for i,word in enumerate(word2vec):\n",
    "    word2int[word] = i\n",
    "    int2word[i] = word"
   ]
  },
  {
   "cell_type": "code",
   "execution_count": 40,
   "metadata": {
    "scrolled": true
   },
   "outputs": [
    {
     "name": "stdout",
     "output_type": "stream",
     "text": [
      "really (29.309498, -29.141148)\n",
      "line (-21.314064, 3.3670475)\n",
      "bit (30.958855, 5.09826)\n",
      "fact (-30.153894, 17.150396)\n",
      "make (0.44250917, -28.183157)\n",
      "try (-7.9326715, 46.318897)\n",
      "book (-6.0746603, -32.608955)\n",
      "mean (-0.30830377, -9.331633)\n",
      "want (-1.346487, -30.003231)\n",
      "send (41.783215, -17.459274)\n",
      "real (12.105998, 3.416098)\n",
      "good (13.700464, -12.183227)\n",
      "file (8.459678, 2.0343277)\n",
      "tell (-18.242203, -15.03843)\n",
      "post (43.171173, -17.965)\n",
      "used (-8.821832, 1.6399617)\n",
      "argument (25.91864, 15.79313)\n",
      "thing (-4.677526, 23.287489)\n",
      "read (-9.863895, 47.24771)\n",
      "image (-15.629617, -1.1616056)\n",
      "come (-2.3368576, 16.840672)\n",
      "number (-31.46479, -20.980942)\n",
      "things (-27.510035, 1.3673724)\n",
      "earth (20.111473, 17.81101)\n",
      "quite (19.417198, 3.5784676)\n",
      "god (27.99598, -27.163157)\n",
      "data (-7.125064, 2.0241425)\n",
      "thought (34.229515, -5.775148)\n",
      "using (3.2190244, -6.5872226)\n",
      "bible (42.252033, -21.33175)\n",
      "graphics (36.738396, 18.79823)\n",
      "say (-7.0017576, 4.870514)\n",
      "said (-45.92872, 1.535166)\n",
      "jesus (-48.0847, 0.0013934593)\n",
      "time (-22.539793, -24.864988)\n",
      "far (-3.0429358, -34.724)\n",
      "program (-31.754854, 19.996284)\n",
      "actually (-3.310249, 26.404545)\n",
      "long (9.833438, 49.51278)\n",
      "people (19.599249, 22.173286)\n",
      "did (8.14929, 21.16869)\n",
      "use (-22.891018, -11.551013)\n",
      "science (16.64132, 15.997779)\n",
      "believe (18.141375, -39.130978)\n",
      "based (20.749496, 31.40763)\n",
      "general (-37.601494, 10.262649)\n",
      "life (0.8496004, 19.156477)\n",
      "set (13.776332, 44.262165)\n",
      "years (0.3350282, -7.1851625)\n",
      "religious (5.328434, 13.184394)\n",
      "new (40.941566, 15.12316)\n",
      "space (-31.12887, 7.8465896)\n",
      "version (9.361206, 47.94982)\n",
      "thanks (-34.741653, -13.5319805)\n",
      "information (-36.034325, -11.836723)\n",
      "following (-22.933908, 13.060648)\n",
      "help (-6.2191796, 25.595556)\n",
      "support (16.052465, -5.827615)\n",
      "little (-11.741253, -28.854145)\n",
      "nasa (-42.983223, -1.4912524)\n",
      "different (0.42677954, -22.491098)\n",
      "know (-30.356853, 23.770369)\n",
      "images (8.122944, -31.476015)\n",
      "satellite (15.005777, -13.549448)\n",
      "shuttle (4.821554, -26.839268)\n",
      "center (5.650355, -26.877659)\n",
      "lunar (-16.257307, -41.32926)\n",
      "research (0.99701154, 33.840576)\n",
      "problem (-31.421488, -11.460764)\n",
      "jpeg (-8.797192, 33.9296)\n",
      "look (-49.26346, -0.7116952)\n",
      "order (-27.617638, 0.79551655)\n",
      "got (-26.0524, 18.003952)\n",
      "evidence (-11.979805, -28.761932)\n",
      "launch (1.880409, -16.074669)\n",
      "way (19.789003, 3.2749982)\n",
      "better (-3.9109137, -2.3638556)\n",
      "given (-33.62792, 12.072625)\n",
      "christian (-30.182383, 20.186022)\n",
      "ftp (-30.401684, -24.832062)\n",
      "called (8.57104, 49.30941)\n",
      "think (7.1280155, 1.983031)\n",
      "computer (11.628851, 14.087647)\n",
      "atheists (14.277409, 43.765396)\n",
      "need (-20.518526, -42.068996)\n",
      "like (-14.963814, -40.64936)\n",
      "world (-12.578315, 36.963272)\n",
      "sure (3.7656112, 4.346936)\n",
      "available (28.814245, 3.295717)\n",
      "right (-10.5812235, -3.744777)\n",
      "point (-34.066418, 14.332293)\n",
      "does (10.837148, 48.659966)\n",
      "true (-29.803717, 28.242294)\n",
      "files (-5.4999294, -14.291344)\n",
      "just (39.76808, 16.50871)\n",
      "probably (12.649405, 32.77244)\n",
      "free (25.791487, 25.202892)\n",
      "software (26.507528, -7.8002377)\n",
      "going (-19.955374, -38.78527)\n",
      "work (-34.27974, 10.119201)\n"
     ]
    }
   ],
   "source": [
    "for word in word2vec:\n",
    "    print(word, (X_embedded[word2int[word]][0],X_embedded[word2int[word]][1] ))\n"
   ]
  },
  {
   "cell_type": "code",
   "execution_count": 41,
   "metadata": {},
   "outputs": [
    {
     "data": {
      "image/png": "[encoded data removed]",
      "text/plain": [
       "<Figure size 720x720 with 1 Axes>"
      ]
     },
     "metadata": {},
     "output_type": "display_data"
    }
   ],
   "source": [
    "fig = plt.figure(figsize=(10, 10))\n",
    "ax = plt.axes(frameon=False)\n",
    "plt.setp(ax, xticks=(), yticks=())\n",
    "plt.subplots_adjust(left=0.0, bottom=0.0, right=1.0, top=0.9,wspace=0.0, hspace=0.0)\n",
    "ax.scatter(X_embedded[:, 0], X_embedded[:, 1], marker=\"x\",c= newsgroups_train.target)\n",
    "\n",
    "for i in range(vector.shape[0]):\n",
    "    ind = np.argmax(vector[i],axis=1)\n",
    "    ix  =  ind.ravel().tolist()[0][0]\n",
    "    w =vectorizer_n.get_feature_names()[ix]\n",
    "    ax.annotate(w, (X_embedded[word2int[w]][0],X_embedded[word2int[w]][1]))\n",
    "plt.show()"
   ]
  },
  {
   "cell_type": "markdown",
   "metadata": {},
   "source": [
    "### Example II Using LDA"
   ]
  },
  {
   "cell_type": "code",
   "execution_count": 42,
   "metadata": {
    "scrolled": true
   },
   "outputs": [
    {
     "name": "stderr",
     "output_type": "stream",
     "text": [
      "INFO:lda:n_documents: 3387\n",
      "INFO:lda:vocab_size: 5808\n",
      "INFO:lda:n_words: 191828\n",
      "INFO:lda:n_topics: 20\n",
      "INFO:lda:n_iter: 500\n",
      "WARNING:lda:all zero row in document-term matrix found\n"
     ]
    },
    {
     "name": "stdout",
     "output_type": "stream",
     "text": [
      "array([[ 0.3338116 , -0.9426398 ],\n",
      "       [-0.9868508 , -0.16163354],\n",
      "       [ 0.4048689 , -0.91437477],\n",
      "       [-0.45112768,  0.89245945],\n",
      "       [ 0.9577505 , -0.2876001 ],\n",
      "       [ 0.74883425,  0.6627573 ],\n",
      "       [-0.42090833, -0.9071031 ]], dtype=float32)\n"
     ]
    },
    {
     "name": "stderr",
     "output_type": "stream",
     "text": [
      "C:\\ProgramData\\Anaconda3\\lib\\site-packages\\lda\\utils.py:55: FutureWarning: Conversion of the second argument of issubdtype from `int` to `np.signedinteger` is deprecated. In future, it will be treated as `np.int32 == np.dtype(int).type`.\n",
      "  if sparse and not np.issubdtype(doc_word.dtype, int):\n",
      "INFO:lda:<0> log likelihood: -2400350\n",
      "INFO:lda:<10> log likelihood: -1680129\n",
      "INFO:lda:<20> log likelihood: -1615400\n",
      "INFO:lda:<30> log likelihood: -1592883\n",
      "INFO:lda:<40> log likelihood: -1582953\n",
      "INFO:lda:<50> log likelihood: -1575614\n",
      "INFO:lda:<60> log likelihood: -1570422\n",
      "INFO:lda:<70> log likelihood: -1567327\n",
      "INFO:lda:<80> log likelihood: -1564484\n",
      "INFO:lda:<90> log likelihood: -1562891\n",
      "INFO:lda:<100> log likelihood: -1560360\n",
      "INFO:lda:<110> log likelihood: -1558281\n",
      "INFO:lda:<120> log likelihood: -1558543\n",
      "INFO:lda:<130> log likelihood: -1556440\n",
      "INFO:lda:<140> log likelihood: -1556979\n",
      "INFO:lda:<150> log likelihood: -1555599\n",
      "INFO:lda:<160> log likelihood: -1554884\n",
      "INFO:lda:<170> log likelihood: -1554065\n",
      "INFO:lda:<180> log likelihood: -1553371\n",
      "INFO:lda:<190> log likelihood: -1552733\n",
      "INFO:lda:<200> log likelihood: -1552326\n",
      "INFO:lda:<210> log likelihood: -1551948\n",
      "INFO:lda:<220> log likelihood: -1551647\n",
      "INFO:lda:<230> log likelihood: -1551078\n",
      "INFO:lda:<240> log likelihood: -1551194\n",
      "INFO:lda:<250> log likelihood: -1551020\n",
      "INFO:lda:<260> log likelihood: -1551084\n",
      "INFO:lda:<270> log likelihood: -1550060\n",
      "INFO:lda:<280> log likelihood: -1550633\n",
      "INFO:lda:<290> log likelihood: -1550195\n",
      "INFO:lda:<300> log likelihood: -1549334\n",
      "INFO:lda:<310> log likelihood: -1549692\n",
      "INFO:lda:<320> log likelihood: -1549104\n",
      "INFO:lda:<330> log likelihood: -1549101\n",
      "INFO:lda:<340> log likelihood: -1549635\n",
      "INFO:lda:<350> log likelihood: -1548963\n",
      "INFO:lda:<360> log likelihood: -1548398\n",
      "INFO:lda:<370> log likelihood: -1549624\n",
      "INFO:lda:<380> log likelihood: -1548760\n",
      "INFO:lda:<390> log likelihood: -1548196\n",
      "INFO:lda:<400> log likelihood: -1548358\n",
      "INFO:lda:<410> log likelihood: -1547814\n",
      "INFO:lda:<420> log likelihood: -1547430\n",
      "INFO:lda:<430> log likelihood: -1547300\n",
      "INFO:lda:<440> log likelihood: -1547603\n",
      "INFO:lda:<450> log likelihood: -1547251\n",
      "INFO:lda:<460> log likelihood: -1546745\n",
      "INFO:lda:<470> log likelihood: -1546892\n",
      "INFO:lda:<480> log likelihood: -1547322\n",
      "INFO:lda:<490> log likelihood: -1546511\n",
      "INFO:lda:<499> log likelihood: -1546408\n"
     ]
    }
   ],
   "source": [
    "n_topics= 20 # topics\n",
    "n_iter = 500 # iterations\n",
    "\n",
    "vectorizer = CountVectorizer(stop_words='english',strip_accents='ascii',min_df=5)\n",
    "vector_lda  = vectorizer.fit_transform(news)\n",
    "\n",
    "print(repr(vectors))\n",
    "\n",
    "# LDA Model\n",
    "import lda\n",
    "lda_model = lda.LDA(n_iter=n_iter,n_topics=n_topics)\n",
    "X_topics = lda_model.fit_transform(vector_lda)"
   ]
  },
  {
   "cell_type": "code",
   "execution_count": 43,
   "metadata": {},
   "outputs": [
    {
     "name": "stdout",
     "output_type": "stream",
     "text": [
      "(3387, 20) \n",
      "\n",
      "[0.0030303  0.03333333 0.0030303  0.0030303  0.30606061 0.3969697\n",
      " 0.0030303  0.21515152 0.0030303  0.0030303  0.0030303  0.0030303\n",
      " 0.0030303  0.0030303  0.0030303  0.0030303  0.0030303  0.0030303\n",
      " 0.0030303  0.0030303 ]\n"
     ]
    }
   ],
   "source": [
    "print(X_topics.shape,\"\\n\")\n",
    "print(X_topics[0])"
   ]
  },
  {
   "cell_type": "code",
   "execution_count": 44,
   "metadata": {},
   "outputs": [],
   "source": [
    "threshold = 0.5\n",
    "_idx = np.amax(X_topics, axis=1) > threshold  # idx of doc that above the threshold\n",
    "X_topics = X_topics[_idx]"
   ]
  },
  {
   "cell_type": "code",
   "execution_count": 45,
   "metadata": {},
   "outputs": [
    {
     "name": "stdout",
     "output_type": "stream",
     "text": [
      "[t-SNE] Computing 91 nearest neighbors...\n",
      "[t-SNE] Indexed 943 samples in 0.001s...\n",
      "[t-SNE] Computed neighbors for 943 samples in 0.063s...\n",
      "[t-SNE] Computed conditional probabilities for sample 943 / 943\n",
      "[t-SNE] Mean sigma: 0.136410\n",
      "[t-SNE] KL divergence after 250 iterations with early exaggeration: 49.904808\n",
      "[t-SNE] KL divergence after 1000 iterations: 0.344182\n",
      "(943, 2)\n"
     ]
    }
   ],
   "source": [
    "# t-SNE\n",
    "from sklearn.manifold import TSNE\n",
    "\n",
    "# 20-D > 2-D\n",
    "X_tsne = TSNE(n_components=2, verbose=1,init='pca',random_state=0,angle=0.99).fit_transform(X_topics)\n",
    "\n",
    "print(X_tsne.shape)"
   ]
  },
  {
   "cell_type": "markdown",
   "metadata": {},
   "source": [
    "* Visualizing groups and keywords"
   ]
  },
  {
   "cell_type": "markdown",
   "metadata": {},
   "source": [
    "* Get words for each topics"
   ]
  },
  {
   "cell_type": "code",
   "execution_count": 56,
   "metadata": {},
   "outputs": [],
   "source": [
    "topics_summaries = []\n",
    "\n",
    "topics_word = lda_model.topic_word_ # all topics words\n",
    "\n",
    "vocab = vectorizer.get_feature_names() # all the features names\n",
    "\n",
    "n_top_words = 5 # number of keywords we show\n",
    "\n",
    "for i, topic_dist in enumerate(topics_word):\n",
    "\n",
    "    topics_words = np.array(vocab)[np.argsort(topic_dist)][:(n_top_words+1):-1]\n",
    "    \n",
    "    topics_summaries.append(\" \".join(topics_words))"
   ]
  },
  {
   "cell_type": "code",
   "execution_count": 58,
   "metadata": {},
   "outputs": [
    {
     "name": "stdout",
     "output_type": "stream",
     "text": [
      "3387\n"
     ]
    },
    {
     "data": {
      "text/plain": [
       "<matplotlib.collections.PathCollection at 0x1077b2b0>"
      ]
     },
     "execution_count": 58,
     "metadata": {},
     "output_type": "execute_result"
    },
    {
     "data": {
      "image/png": "[encoded data removed]",
      "text/plain": [
       "<Figure size 720x720 with 1 Axes>"
      ]
     },
     "metadata": {},
     "output_type": "display_data"
    }
   ],
   "source": [
    "# Plotting high dimesion data into 2-D plot results for tsne\n",
    "target = []\n",
    "target.extend(newsgroups_train.target)\n",
    "target.extend(newsgroups_test.target)\n",
    "\n",
    "print(len(target))\n",
    "\n",
    "import matplotlib.pyplot as plt\n",
    "%matplotlib inline\n",
    "fig = plt.figure(figsize=(10, 10))\n",
    "ax = plt.axes(frameon=False)\n",
    "plt.setp(ax, xticks=(), yticks=())\n",
    "plt.subplots_adjust(left=0.0, bottom=0.0, right=1.0, top=0.9,wspace=0.0, hspace=0.0)\n",
    "ax.scatter(X_tsne[:, 0], X_tsne[:, 1], marker=\"x\")"
   ]
  },
  {
   "cell_type": "markdown",
   "metadata": {},
   "source": [
    "* References\n",
    "* http://projector.tensorflow.org/\n",
    "* https://shuaiw.github.io/2016/12/22/topic-modeling-and-tsne-visualzation.html\n",
    "* https://www.tensorflow.org/tutorials/representation/word2vec\n",
    "* http://nbviewer.jupyter.org/urls/gist.githubusercontent.com/AlexanderFabisch/1a0c648de22eff4a2a3e/raw/59d5bc5ed8f8bfd9ff1f7faa749d1b095aa97d5a/t-SNE.ipynb"
   ]
  },
  {
   "cell_type": "markdown",
   "metadata": {},
   "source": [
    "### Example IV"
   ]
  },
  {
   "cell_type": "code",
   "execution_count": 60,
   "metadata": {},
   "outputs": [],
   "source": [
    "import matplotlib.pyplot as plt\n",
    "from sklearn.feature_extraction.text import TfidfVectorizer\n",
    "from sklearn.cluster import KMeans\n",
    "from sklearn.decomposition import PCA\n",
    "from sklearn.manifold import TSNE\n",
    "\n",
    "num_clusters = 10\n",
    "num_seeds = 10\n",
    "max_iterations = 300\n",
    "labels_color_map = {\n",
    "    0: '#20b2aa', 1: '#ff7373', 2: '#ffe4e1', 3: '#005073', 4: '#4d0404',\n",
    "    5: '#ccc0ba', 6: '#4700f9', 7: '#f6f900', 8: '#00f91d', 9: '#da8c49'\n",
    "}\n",
    "\n",
    "\n",
    "# texts_list = some array of strings for which TF-IDF is being computed\n",
    "\n",
    "# calculate tf-idf of texts\n",
    "tf_idf_vectorizer = TfidfVectorizer(analyzer=\"word\", use_idf=True, smooth_idf=True, ngram_range=(2, 3),max_features=1000,min_df=5)\n",
    "tf_idf_matrix = tf_idf_vectorizer.fit_transform(newsgroups_train.data)"
   ]
  },
  {
   "cell_type": "code",
   "execution_count": 61,
   "metadata": {},
   "outputs": [],
   "source": [
    "# create k-means model with custom config\n",
    "clustering_model = KMeans(\n",
    "    n_clusters=num_clusters,\n",
    "    max_iter=max_iterations,\n",
    "    precompute_distances=\"auto\",\n",
    "    n_jobs=-1\n",
    ")\n",
    "\n",
    "labels = clustering_model.fit_predict(tf_idf_matrix)\n",
    "# print labels\n",
    "X = tf_idf_matrix.todense()"
   ]
  },
  {
   "cell_type": "code",
   "execution_count": 62,
   "metadata": {},
   "outputs": [
    {
     "name": "stdout",
     "output_type": "stream",
     "text": [
      "(2034, 1000)\n"
     ]
    }
   ],
   "source": [
    "print(X.shape)"
   ]
  },
  {
   "cell_type": "code",
   "execution_count": 63,
   "metadata": {},
   "outputs": [
    {
     "data": {
      "image/png": "[encoded data removed]",
      "text/plain": [
       "<Figure size 720x720 with 1 Axes>"
      ]
     },
     "metadata": {},
     "output_type": "display_data"
    }
   ],
   "source": [
    "# PCA - plot\n",
    "reduced_data = PCA(n_components= 2).fit_transform(X)\n",
    "\n",
    "# plot reduced_data\n",
    "fig = plt.figure(figsize=(10, 10))\n",
    "\n",
    "ax = plt.axes(frameon=False)\n",
    "\n",
    "plt.setp(ax, xticks=(), yticks=())\n",
    "\n",
    "for index, instance in enumerate(reduced_data):\n",
    "\n",
    "    # print instance, index, labels[index]\n",
    "    \n",
    "    pca_comp_1, pca_comp_2 = reduced_data[index]\n",
    "    \n",
    "    color = labels_color_map[labels[index]]\n",
    "    \n",
    "    ax.scatter(pca_comp_1, pca_comp_2, c=color)\n",
    "\n",
    "plt.show()"
   ]
  },
  {
   "cell_type": "code",
   "execution_count": 64,
   "metadata": {},
   "outputs": [
    {
     "data": {
      "image/png": "[encoded data removed]",
      "text/plain": [
       "<Figure size 720x720 with 1 Axes>"
      ]
     },
     "metadata": {},
     "output_type": "display_data"
    }
   ],
   "source": [
    "# t-SNE plot\n",
    "embeddings = TSNE(n_components=2,init='pca')\n",
    "\n",
    "Y = embeddings.fit_transform(X)\n",
    "\n",
    "fig = plt.figure(figsize=(10, 10))\n",
    "\n",
    "ax = plt.axes(frameon=False)\n",
    "\n",
    "plt.setp(ax, xticks=(), yticks=())\n",
    "\n",
    "plt.scatter(Y[:, 0], Y[:, 1], c=newsgroups_train.target)\n",
    "\n",
    "plt.show()"
   ]
  },
  {
   "cell_type": "markdown",
   "metadata": {},
   "source": [
    "## Tensorflow Word2Vec Model"
   ]
  },
  {
   "cell_type": "code",
   "execution_count": 66,
   "metadata": {},
   "outputs": [],
   "source": [
    "import numpy as np, pandas as pd\n",
    "from six.moves import urllib, xrange\n",
    "import tensorflow as tf"
   ]
  },
  {
   "cell_type": "code",
   "execution_count": 67,
   "metadata": {},
   "outputs": [],
   "source": [
    "import collections,math, os,errno,random,zipfile"
   ]
  },
  {
   "cell_type": "code",
   "execution_count": 68,
   "metadata": {},
   "outputs": [
    {
     "name": "stdout",
     "output_type": "stream",
     "text": [
      "C:\\Users\\manish.singh04\\Videos\\Tensorflow-Bootcamp-master\\02-TensorFlow-Basics\n"
     ]
    }
   ],
   "source": [
    "print(os.getcwd())\n",
    "os.chdir(r'C:\\Users\\manish.singh04\\Videos\\Tensorflow-Bootcamp-master\\04-Recurrent-Neural-Networks')"
   ]
  },
  {
   "cell_type": "code",
   "execution_count": 69,
   "metadata": {},
   "outputs": [],
   "source": [
    "data_dir = r'C:\\Users\\manish.singh04\\Videos\\Tensorflow-Bootcamp-master\\04-Recurrent-Neural-Networks\\word2vec\\words'\n",
    "data_url = \"http://mattmahoney.net/dc/text8.zip\""
   ]
  },
  {
   "cell_type": "code",
   "execution_count": 70,
   "metadata": {},
   "outputs": [],
   "source": [
    "def fetch_words_data(url=data_url, words_data=data_dir):\n",
    "    \n",
    "    # Make the Dir if it does not exist\n",
    "    os.makedirs(words_data, exist_ok=True)\n",
    "    \n",
    "    # Path to zip file \n",
    "    zip_path = os.path.join(words_data, \"words.zip\")\n",
    "    \n",
    "    # If the zip file isn't there, download it from the data url\n",
    "    if not os.path.exists(zip_path):\n",
    "        urllib.request.urlretrieve(url, zip_path)\n",
    "        \n",
    "    # Now that the zip file is there, get the data from it\n",
    "    with zipfile.ZipFile(zip_path) as f:\n",
    "        data = f.read(f.namelist()[0])\n",
    "    \n",
    "    # Return a list of all the words in the data source.\n",
    "    return data.decode(\"ascii\").split()"
   ]
  },
  {
   "cell_type": "code",
   "execution_count": 71,
   "metadata": {},
   "outputs": [],
   "source": [
    "words = fetch_words_data()"
   ]
  },
  {
   "cell_type": "code",
   "execution_count": 72,
   "metadata": {},
   "outputs": [
    {
     "data": {
      "text/plain": [
       "17005207"
      ]
     },
     "execution_count": 72,
     "metadata": {},
     "output_type": "execute_result"
    }
   ],
   "source": [
    "len(words)"
   ]
  },
  {
   "cell_type": "code",
   "execution_count": 73,
   "metadata": {},
   "outputs": [
    {
     "name": "stdout",
     "output_type": "stream",
     "text": [
      "feelings and the auditory system of a person without autism often cannot sense the fluctuations what seems to non autistic people like a high pitched sing song or flat robot like voice is common in autistic children some autistic children with relatively good language skills speak like little adults rather than communicating at their current age level which is one of the things that can lead to problems since non autistic people are often unfamiliar with the autistic body language and since autistic natural language may not tend towards speech "
     ]
    }
   ],
   "source": [
    "for w in words[9000:9090]:\n",
    "    print(w,end=' ')"
   ]
  },
  {
   "cell_type": "code",
   "execution_count": 74,
   "metadata": {},
   "outputs": [],
   "source": [
    "from collections import Counter"
   ]
  },
  {
   "cell_type": "code",
   "execution_count": 75,
   "metadata": {},
   "outputs": [],
   "source": [
    "my_list =['one','two','two']"
   ]
  },
  {
   "cell_type": "code",
   "execution_count": 76,
   "metadata": {},
   "outputs": [
    {
     "data": {
      "text/plain": [
       "[('two', 2), ('one', 1)]"
      ]
     },
     "execution_count": 76,
     "metadata": {},
     "output_type": "execute_result"
    }
   ],
   "source": [
    "Counter(my_list).most_common(2)"
   ]
  },
  {
   "cell_type": "code",
   "execution_count": 77,
   "metadata": {},
   "outputs": [],
   "source": [
    "def create_counts(vocab_size=50000):\n",
    "\n",
    "    # Begin adding vocab counts with Counter\n",
    "    vocab = [] + Counter(words).most_common(vocab_size )\n",
    "    \n",
    "    # Turn into a numpy array\n",
    "    vocab = np.array([word for word, _ in vocab])\n",
    "    \n",
    "    \n",
    "    dictionary = {word: code for code, word in enumerate(vocab)}\n",
    "    data = np.array([dictionary.get(word, 0) for word in words])\n",
    "    return data,vocab"
   ]
  },
  {
   "cell_type": "code",
   "execution_count": 78,
   "metadata": {},
   "outputs": [],
   "source": [
    "data, vocabulary = create_counts()"
   ]
  },
  {
   "cell_type": "code",
   "execution_count": 79,
   "metadata": {},
   "outputs": [
    {
     "data": {
      "text/plain": [
       "(17005207,)"
      ]
     },
     "execution_count": 79,
     "metadata": {},
     "output_type": "execute_result"
    }
   ],
   "source": [
    "data.shape"
   ]
  },
  {
   "cell_type": "code",
   "execution_count": 80,
   "metadata": {},
   "outputs": [
    {
     "data": {
      "text/plain": [
       "(50000,)"
      ]
     },
     "execution_count": 80,
     "metadata": {},
     "output_type": "execute_result"
    }
   ],
   "source": [
    "vocabulary.shape"
   ]
  },
  {
   "cell_type": "code",
   "execution_count": 81,
   "metadata": {},
   "outputs": [
    {
     "data": {
      "text/plain": [
       "'interpretations'"
      ]
     },
     "execution_count": 81,
     "metadata": {},
     "output_type": "execute_result"
    }
   ],
   "source": [
    "words[100]"
   ]
  },
  {
   "cell_type": "code",
   "execution_count": 82,
   "metadata": {},
   "outputs": [
    {
     "data": {
      "text/plain": [
       "4186"
      ]
     },
     "execution_count": 82,
     "metadata": {},
     "output_type": "execute_result"
    }
   ],
   "source": [
    "data[100]"
   ]
  },
  {
   "cell_type": "code",
   "execution_count": 83,
   "metadata": {},
   "outputs": [],
   "source": [
    "def generate_batch(batch_size, num_skips, skip_window):\n",
    "    global data_index\n",
    "    assert batch_size % num_skips == 0\n",
    "    assert num_skips <= 2 * skip_window\n",
    "    batch = np.ndarray(shape=(batch_size), dtype=np.int32)\n",
    "    labels = np.ndarray(shape=(batch_size, 1), dtype=np.int32)\n",
    "    span = 2 * skip_window + 1  # [ skip_window target skip_window ]\n",
    "    buffer = collections.deque(maxlen=span)\n",
    "    if data_index + span > len(data):\n",
    "        data_index = 0\n",
    "    buffer.extend(data[data_index:data_index + span])\n",
    "    data_index += span\n",
    "    for i in range(batch_size // num_skips):\n",
    "        target = skip_window  # target label at the center of the buffer\n",
    "        targets_to_avoid = [skip_window]\n",
    "        for j in range(num_skips):\n",
    "            while target in targets_to_avoid:\n",
    "                target = random.randint(0, span - 1)\n",
    "            targets_to_avoid.append(target)\n",
    "            batch[i * num_skips + j] = buffer[skip_window]\n",
    "            labels[i * num_skips + j, 0] = buffer[target]\n",
    "    if data_index == len(data):\n",
    "        buffer[:] = data[:span]\n",
    "        data_index = span\n",
    "    else:\n",
    "        buffer.append(data[data_index])\n",
    "        data_index += 1\n",
    "  # Backtrack a little bit to avoid skipping words in the end of a batch\n",
    "    data_index = (data_index + len(data) - span) % len(data)\n",
    "    return batch, labels"
   ]
  },
  {
   "cell_type": "code",
   "execution_count": 84,
   "metadata": {},
   "outputs": [],
   "source": [
    "# COSTANTS"
   ]
  },
  {
   "cell_type": "code",
   "execution_count": 85,
   "metadata": {},
   "outputs": [],
   "source": [
    "batch_size = 128\n",
    "\n",
    "embedding_size =150\n",
    "\n",
    "skip_window = 1\n",
    "\n",
    "num_skips = 2\n",
    "\n",
    "valid_size = 16"
   ]
  },
  {
   "cell_type": "code",
   "execution_count": 86,
   "metadata": {},
   "outputs": [],
   "source": [
    "valid_window = 100\n",
    "valid_examples = np.random.choice(valid_window,valid_size,replace = False)"
   ]
  },
  {
   "cell_type": "code",
   "execution_count": 87,
   "metadata": {},
   "outputs": [],
   "source": [
    "num_sampled = 64\n",
    "\n",
    "learning_rate = 0.01\n",
    "\n",
    "vocabulary_size = 50000"
   ]
  },
  {
   "cell_type": "code",
   "execution_count": 88,
   "metadata": {},
   "outputs": [],
   "source": [
    "# RESET THE TF GRAPH"
   ]
  },
  {
   "cell_type": "code",
   "execution_count": 89,
   "metadata": {},
   "outputs": [],
   "source": [
    "tf.reset_default_graph()"
   ]
  },
  {
   "cell_type": "code",
   "execution_count": 90,
   "metadata": {},
   "outputs": [],
   "source": [
    "# CREATE PALCEHOLDERS FOR INPUTS"
   ]
  },
  {
   "cell_type": "code",
   "execution_count": 91,
   "metadata": {},
   "outputs": [],
   "source": [
    "train_inputs = tf.placeholder(tf.int32,shape=[None])\n",
    "train_labels = tf.placeholder(tf.int32,shape=[batch_size,1])"
   ]
  },
  {
   "cell_type": "code",
   "execution_count": 92,
   "metadata": {},
   "outputs": [],
   "source": [
    "valid_datasets = tf.constant(valid_examples,dtype= tf.int32)"
   ]
  },
  {
   "cell_type": "code",
   "execution_count": 93,
   "metadata": {},
   "outputs": [],
   "source": [
    "# eMBEDDING"
   ]
  },
  {
   "cell_type": "code",
   "execution_count": 94,
   "metadata": {},
   "outputs": [],
   "source": [
    "init_embedding = tf.random_uniform([vocabulary_size,embedding_size],-1.0,1.0)"
   ]
  },
  {
   "cell_type": "code",
   "execution_count": 95,
   "metadata": {},
   "outputs": [],
   "source": [
    "embeddings = tf.Variable(init_embedding)"
   ]
  },
  {
   "cell_type": "code",
   "execution_count": 96,
   "metadata": {},
   "outputs": [],
   "source": [
    "embed = tf.nn.embedding_lookup(embeddings,train_inputs)"
   ]
  },
  {
   "cell_type": "code",
   "execution_count": 97,
   "metadata": {},
   "outputs": [],
   "source": [
    "# NCE loss"
   ]
  },
  {
   "cell_type": "code",
   "execution_count": 98,
   "metadata": {},
   "outputs": [],
   "source": [
    "nce_weights = tf.Variable(tf.truncated_normal([vocabulary_size,embedding_size],stddev=1.0/np.sqrt(embedding_size)))"
   ]
  },
  {
   "cell_type": "code",
   "execution_count": 99,
   "metadata": {},
   "outputs": [],
   "source": [
    "nce_biases  = tf.Variable(tf.zeros([vocabulary_size]))"
   ]
  },
  {
   "cell_type": "code",
   "execution_count": 100,
   "metadata": {},
   "outputs": [],
   "source": [
    "loss = tf.reduce_mean(\n",
    "    tf.nn.nce_loss(\n",
    "        nce_weights,\n",
    "        nce_biases,\n",
    "        train_labels,\n",
    "        embed,\n",
    "        num_sampled,\n",
    "        vocabulary_size))"
   ]
  },
  {
   "cell_type": "code",
   "execution_count": 101,
   "metadata": {},
   "outputs": [],
   "source": [
    "# optimizer"
   ]
  },
  {
   "cell_type": "code",
   "execution_count": 102,
   "metadata": {},
   "outputs": [],
   "source": [
    "optimizer = tf.train.AdamOptimizer(learning_rate = 1.0)\n",
    "trainer = optimizer.minimize(loss)"
   ]
  },
  {
   "cell_type": "code",
   "execution_count": 103,
   "metadata": {},
   "outputs": [],
   "source": [
    "# Compute the cosine similarity between minibatch examples and all embeddings!\n",
    "norm = tf.sqrt(tf.reduce_sum(tf.square(embeddings),axis=1,keepdims=True))\n",
    "\n",
    "normalized_embeddings = embeddings / norm\n",
    "\n",
    "valid_embeddings = tf.nn.embedding_lookup(normalized_embeddings,valid_datasets)\n",
    "\n",
    "similarity = tf.matmul(valid_embeddings,normalized_embeddings,transpose_b=True)"
   ]
  },
  {
   "cell_type": "code",
   "execution_count": null,
   "metadata": {},
   "outputs": [],
   "source": [
    "norm"
   ]
  },
  {
   "cell_type": "code",
   "execution_count": 105,
   "metadata": {},
   "outputs": [],
   "source": [
    "data_index = 0"
   ]
  },
  {
   "cell_type": "code",
   "execution_count": 106,
   "metadata": {},
   "outputs": [],
   "source": [
    "init = tf.global_variables_initializer()"
   ]
  },
  {
   "cell_type": "code",
   "execution_count": 107,
   "metadata": {},
   "outputs": [],
   "source": [
    "Session = tf.Session()"
   ]
  },
  {
   "cell_type": "code",
   "execution_count": 108,
   "metadata": {
    "scrolled": true
   },
   "outputs": [
    {
     "name": "stdout",
     "output_type": "stream",
     "text": [
      "Average Loss at step 0 is 276.788330078125\n",
      "Average Loss at step 1000 is 10160.14154801941\n",
      "Average Loss at step 2000 is 22548.476856506346\n",
      "Average Loss at step 3000 is 26272.53696621704\n",
      "Average Loss at step 4000 is 30896.50827633667\n"
     ]
    }
   ],
   "source": [
    "num_steps = 5000\n",
    "\n",
    "with tf.Session() as Session:\n",
    "    \n",
    "    Session.run(init)\n",
    "    \n",
    "    average_loss  = 0\n",
    "    \n",
    "    for step in range(num_steps):\n",
    "        \n",
    "        batch_inputs, batch_labels = generate_batch(batch_size,num_skips,skip_window)\n",
    "        \n",
    "        feed_dict = {train_inputs: batch_inputs,train_labels:batch_labels}\n",
    "\n",
    "        _, loss_val = Session.run([trainer,loss],feed_dict=feed_dict)\n",
    "        \n",
    "        average_loss += loss_val\n",
    "\n",
    "        if step % 1000 == 0:\n",
    "            \n",
    "            if step > 0:\n",
    "                \n",
    "                average_loss = average_loss/1000\n",
    "                \n",
    "            print(\"Average Loss at step\",step,\"is\",average_loss)\n",
    "            \n",
    "            average_loss = 0\n",
    "\n",
    "        final_embeddings = normalized_embeddings.eval()"
   ]
  },
  {
   "cell_type": "code",
   "execution_count": 109,
   "metadata": {},
   "outputs": [
    {
     "data": {
      "text/plain": [
       "(50000, 150)"
      ]
     },
     "execution_count": 109,
     "metadata": {},
     "output_type": "execute_result"
    }
   ],
   "source": [
    "# tsne\n",
    "final_embeddings.shape"
   ]
  },
  {
   "cell_type": "code",
   "execution_count": 110,
   "metadata": {},
   "outputs": [
    {
     "name": "stdout",
     "output_type": "stream",
     "text": [
      "[[-0.05597084  0.007134    0.03537896 ... -0.04734254  0.14222744\n",
      "   0.03922963]\n",
      " [ 0.0265061   0.01253208 -0.06199547 ...  0.09490416  0.11029343\n",
      "  -0.01668774]\n",
      " [-0.06550323  0.03996683 -0.07316499 ...  0.03465588  0.03095972\n",
      "   0.08324224]\n",
      " ...\n",
      " [-0.05195164  0.06580905  0.01822029 ...  0.13574094  0.08257448\n",
      "   0.02210234]\n",
      " [-0.09409066  0.07503723  0.08587202 ...  0.07570462 -0.06480998\n",
      "  -0.10053973]\n",
      " [-0.05611551  0.13195954  0.1039136  ... -0.02404371  0.09213684\n",
      "  -0.11968965]]\n"
     ]
    }
   ],
   "source": [
    "print(np.array(final_embeddings))"
   ]
  },
  {
   "cell_type": "code",
   "execution_count": 111,
   "metadata": {},
   "outputs": [],
   "source": [
    "from sklearn.manifold import TSNE\n",
    "# t-SNE plot\n",
    "tsne = TSNE(n_components=2,init='pca',perplexity=30)\n",
    "\n",
    "plot_only= 500\n",
    "\n",
    "low_dim_embed = tsne.fit_transform(final_embeddings[:plot_only,:])"
   ]
  },
  {
   "cell_type": "code",
   "execution_count": 112,
   "metadata": {},
   "outputs": [
    {
     "data": {
      "text/plain": [
       "(500, 2)"
      ]
     },
     "execution_count": 112,
     "metadata": {},
     "output_type": "execute_result"
    }
   ],
   "source": [
    "low_dim_embed.shape"
   ]
  },
  {
   "cell_type": "code",
   "execution_count": 113,
   "metadata": {},
   "outputs": [],
   "source": [
    "labels = [vocabulary[i] for i in range(plot_only)]"
   ]
  },
  {
   "cell_type": "code",
   "execution_count": 114,
   "metadata": {},
   "outputs": [
    {
     "data": {
      "text/plain": [
       "array([[ 2.55749655e+00,  1.63481617e+00],\n",
       "       [-3.40606809e+00, -2.16905427e+00],\n",
       "       [-3.78701377e+00,  2.55664301e+00],\n",
       "       [-4.91877270e+00, -6.38892174e-01],\n",
       "       [-5.85030413e+00,  3.66947603e+00],\n",
       "       [ 3.43127936e-01,  1.10755658e+00],\n",
       "       [-3.03650331e+00,  1.56300306e+00],\n",
       "       [ 4.03989792e+00,  2.08694124e+00],\n",
       "       [-3.16227984e+00,  1.29179800e+00],\n",
       "       [-2.69705200e+00, -4.46786261e+00],\n",
       "       [ 1.45001507e+00, -4.26857758e+00],\n",
       "       [ 6.58035994e+00, -4.39934587e+00],\n",
       "       [-7.84072280e-01, -8.73100376e+00],\n",
       "       [-2.46296358e+00,  3.34048700e+00],\n",
       "       [-2.68472433e+00, -1.32079995e+00],\n",
       "       [-3.85477805e+00, -3.95207500e+00],\n",
       "       [ 5.28684282e+00, -6.37358332e+00],\n",
       "       [ 3.69051784e-01, -5.99875987e-01],\n",
       "       [-4.64416695e+00, -3.63404965e+00],\n",
       "       [-2.74056673e+00, -6.21488094e-01],\n",
       "       [ 4.89101321e-01, -4.33009982e-01],\n",
       "       [ 1.54438043e+00,  2.69871378e+00],\n",
       "       [-5.79415846e+00, -4.04599047e+00],\n",
       "       [-1.36922821e-01, -1.09572017e+00],\n",
       "       [-6.03711796e+00, -1.92420352e+00],\n",
       "       [-4.53589487e+00, -6.72424138e-01],\n",
       "       [-5.12822914e+00, -4.94660139e+00],\n",
       "       [ 6.74268484e+00, -4.46403217e+00],\n",
       "       [-6.43562339e-03,  1.37393370e-01],\n",
       "       [-1.24952030e+00, -7.84070873e+00],\n",
       "       [-5.51723623e+00, -3.15046239e+00],\n",
       "       [ 1.49042249e+00, -2.60517192e+00],\n",
       "       [-2.92951345e-01, -5.01325309e-01],\n",
       "       [-3.42424822e+00, -9.13231790e-01],\n",
       "       [ 1.05022097e+00, -6.64947391e-01],\n",
       "       [ 2.52131605e+00,  1.11439979e+00],\n",
       "       [-2.21712279e+00,  1.95736229e+00],\n",
       "       [-6.04326963e+00, -4.12753773e+00],\n",
       "       [-2.73836446e+00,  2.83399284e-01],\n",
       "       [ 6.33630371e+00, -3.42727208e+00],\n",
       "       [-1.49443758e+00, -2.28619725e-01],\n",
       "       [ 7.02020645e-01, -6.19827557e+00],\n",
       "       [-5.51018620e+00,  1.43738997e+00],\n",
       "       [-2.75722980e+00, -3.86022758e+00],\n",
       "       [ 3.90241593e-01,  1.15872276e+00],\n",
       "       [ 2.39069629e+00,  1.16912222e+00],\n",
       "       [-2.82525229e+00,  1.99166131e+00],\n",
       "       [-2.43910241e+00,  3.33284235e+00],\n",
       "       [-2.41244388e+00,  8.05277973e-02],\n",
       "       [ 1.50973392e+00,  1.15927267e+00],\n",
       "       [-5.49205780e+00, -2.76688725e-01],\n",
       "       [-1.52271259e+00, -6.52611017e+00],\n",
       "       [-9.13564026e-01, -4.72127962e+00],\n",
       "       [ 1.72683775e+00,  6.19079173e-02],\n",
       "       [ 6.73976803e+00, -1.01370180e+00],\n",
       "       [-1.80415571e-01, -7.86249399e+00],\n",
       "       [-6.43822670e-01, -1.58531058e+00],\n",
       "       [ 2.81587124e-01, -6.73526716e+00],\n",
       "       [-2.51930928e+00, -4.04419839e-01],\n",
       "       [ 7.40471554e+00,  1.15800524e+00],\n",
       "       [ 1.56291449e+00, -2.07383704e+00],\n",
       "       [ 4.49968904e-01, -1.48236418e+00],\n",
       "       [ 1.38774264e+00, -3.69894242e+00],\n",
       "       [ 1.63063097e+00,  2.34434319e+00],\n",
       "       [ 4.93544769e+00, -4.33527231e+00],\n",
       "       [ 1.74017882e+00,  6.00417852e-02],\n",
       "       [-8.88408959e-01, -2.82112765e+00],\n",
       "       [-2.02721119e+00, -9.67075586e-01],\n",
       "       [-2.31856450e-01, -4.40043831e+00],\n",
       "       [-2.14230299e+00, -6.02556276e+00],\n",
       "       [-1.20843923e+00, -3.93916106e+00],\n",
       "       [ 4.34287214e+00,  5.40591717e-01],\n",
       "       [ 8.72612119e-01, -1.94220507e+00],\n",
       "       [-3.13704705e+00, -2.48445940e+00],\n",
       "       [ 1.73829234e+00, -4.23803616e+00],\n",
       "       [ 2.49646950e+00, -2.09763074e+00],\n",
       "       [ 5.29413128e+00, -9.99315023e-01],\n",
       "       [ 8.83169591e-01, -1.48614526e-01],\n",
       "       [ 1.80328333e+00, -1.27559602e+00],\n",
       "       [-9.21107456e-02, -6.38178539e+00],\n",
       "       [ 2.59211349e+00, -3.99159479e+00],\n",
       "       [-1.41083598e+00,  1.06571734e+00],\n",
       "       [-8.42486501e-01, -6.77540159e+00],\n",
       "       [-6.90492105e+00, -8.75352740e-01],\n",
       "       [ 2.05926442e+00, -4.25389147e+00],\n",
       "       [-1.24467432e+00,  1.80968571e+00],\n",
       "       [ 1.61606097e+00,  2.66836619e+00],\n",
       "       [-3.47341990e+00, -3.13450050e+00],\n",
       "       [-5.23300600e+00, -2.82113004e+00],\n",
       "       [ 1.46841240e+00, -6.19759846e+00],\n",
       "       [-3.70407438e+00, -8.71461570e-01],\n",
       "       [ 6.64783144e+00,  1.99277854e+00],\n",
       "       [-3.39609718e+00, -5.44477463e+00],\n",
       "       [ 3.21255064e+00, -8.07272148e+00],\n",
       "       [ 4.13955927e+00, -1.78915143e+00],\n",
       "       [ 2.56768751e+00, -1.42568505e+00],\n",
       "       [-4.32480907e+00, -4.31465101e+00],\n",
       "       [-1.56712425e+00,  1.79746521e+00],\n",
       "       [-9.51557577e-01,  6.83111995e-02],\n",
       "       [-4.14537239e+00, -9.04699206e-01],\n",
       "       [-2.44670606e+00, -1.67848599e+00],\n",
       "       [ 1.41986549e+00, -3.32524872e+00],\n",
       "       [-1.71569335e+00, -3.42930079e+00],\n",
       "       [-9.31060612e-01, -2.78129172e+00],\n",
       "       [ 2.40391874e+00, -2.48849317e-01],\n",
       "       [ 2.47697830e+00, -2.45073885e-01],\n",
       "       [-1.04958558e+00, -3.14448762e+00],\n",
       "       [ 8.85530949e+00,  4.49091768e+00],\n",
       "       [ 2.09337878e+00, -6.96768665e+00],\n",
       "       [-1.32093221e-01, -2.98507977e+00],\n",
       "       [ 5.93620002e-01, -4.58924484e+00],\n",
       "       [ 2.36889076e+00,  4.93604946e+00],\n",
       "       [-3.40302563e+00, -1.78229272e+00],\n",
       "       [ 7.06650352e+00,  2.76752591e-01],\n",
       "       [ 1.97001308e-01, -3.50559711e+00],\n",
       "       [ 3.60267282e+00,  9.59247875e+00],\n",
       "       [-3.73841405e+00, -3.45774913e+00],\n",
       "       [-1.64685571e+00,  4.25411034e+00],\n",
       "       [ 1.81844616e+00, -1.60425544e+00],\n",
       "       [ 2.20063376e+00, -6.43528652e+00],\n",
       "       [ 8.31674480e+00, -7.15553045e-01],\n",
       "       [ 4.69671011e+00,  5.54674578e+00],\n",
       "       [-4.24198008e+00,  1.87909925e+00],\n",
       "       [ 5.25760698e+00, -2.40910339e+00],\n",
       "       [ 4.80881739e+00,  4.30376053e+00],\n",
       "       [ 5.77246094e+00, -2.13062954e+00],\n",
       "       [ 3.53536677e+00,  5.98736763e+00],\n",
       "       [ 8.93632531e-01,  1.20256507e+00],\n",
       "       [ 2.76993012e+00, -2.90503573e+00],\n",
       "       [ 3.45950365e+00,  5.91257381e+00],\n",
       "       [ 2.03382540e+00,  8.06317139e+00],\n",
       "       [ 8.99369121e-01, -1.32794106e+00],\n",
       "       [ 2.07827210e-01, -5.02643633e+00],\n",
       "       [-4.34674835e+00,  7.80716896e-01],\n",
       "       [ 3.91102219e+00, -3.92717814e+00],\n",
       "       [-2.79704243e-01, -1.26127660e+00],\n",
       "       [ 5.02168655e-01, -3.65654588e+00],\n",
       "       [ 4.95460957e-01,  7.69857216e+00],\n",
       "       [ 3.06004572e+00, -5.74844217e+00],\n",
       "       [-2.42437887e+00, -8.11474514e+00],\n",
       "       [ 8.38359714e-01, -5.38252926e+00],\n",
       "       [ 3.26356959e+00,  4.34827805e+00],\n",
       "       [-1.88825774e+00, -4.19908905e+00],\n",
       "       [-2.97893077e-01,  2.09975457e+00],\n",
       "       [-2.28623077e-01, -3.75840688e+00],\n",
       "       [-4.67867136e+00, -8.05628681e+00],\n",
       "       [-3.60018063e+00,  7.67486095e-01],\n",
       "       [ 3.47384501e+00,  2.67967209e-02],\n",
       "       [-2.08958912e+00, -2.32166743e+00],\n",
       "       [ 3.42083979e+00, -4.74447346e+00],\n",
       "       [-6.72780848e+00, -2.09989786e+00],\n",
       "       [ 8.72650862e-01, -1.42088580e+00],\n",
       "       [ 5.01372528e+00, -3.99066269e-01],\n",
       "       [-5.68127489e+00, -2.65729930e-02],\n",
       "       [ 6.12704217e-01, -7.54384947e+00],\n",
       "       [-2.19511700e+00, -8.12571812e+00],\n",
       "       [-1.96358275e+00,  6.83881283e-01],\n",
       "       [-1.04085541e+00, -8.93683624e+00],\n",
       "       [-1.99810743e+00, -3.65837407e+00],\n",
       "       [ 2.62539864e+00, -5.12151384e+00],\n",
       "       [-1.68659699e+00, -1.21756399e+00],\n",
       "       [-4.34913015e+00, -2.06683230e+00],\n",
       "       [-2.42135787e+00, -5.59531021e+00],\n",
       "       [ 1.51272476e-01, -4.95390081e+00],\n",
       "       [ 1.12372041e+00,  8.86594474e-01],\n",
       "       [-6.67948151e+00,  2.95197916e+00],\n",
       "       [ 2.59553313e+00, -2.45487356e+00],\n",
       "       [ 4.18897104e+00, -2.57047057e+00],\n",
       "       [-4.90079784e+00, -4.89069462e+00],\n",
       "       [ 2.66272283e+00, -3.42533731e+00],\n",
       "       [-4.53364938e-01, -6.18866873e+00],\n",
       "       [ 8.70478725e+00, -9.67833936e-01],\n",
       "       [-7.26993799e+00, -3.11956906e+00],\n",
       "       [-4.43965578e+00, -3.86181045e+00],\n",
       "       [-5.05974102e+00, -1.67048168e+00],\n",
       "       [ 4.73243207e-01, -2.54747009e+00],\n",
       "       [-1.26093781e+00, -2.62644029e+00],\n",
       "       [ 1.16454756e+00, -5.76303959e+00],\n",
       "       [ 4.53643799e+00,  9.93832016e+00],\n",
       "       [ 6.01356506e-01,  7.85509157e+00],\n",
       "       [ 3.06271243e+00,  5.67620099e-01],\n",
       "       [-1.17940581e+00, -2.34141207e+00],\n",
       "       [ 6.37819386e+00,  5.64853382e+00],\n",
       "       [ 5.98750949e-01, -2.43780661e+00],\n",
       "       [-5.27595758e+00, -6.46011400e+00],\n",
       "       [-3.40286660e+00,  7.54962921e+00],\n",
       "       [ 2.43230820e+00, -4.24172735e+00],\n",
       "       [-4.52479267e+00, -7.78633118e+00],\n",
       "       [ 7.27525726e-02, -2.58161688e+00],\n",
       "       [ 2.20271945e+00,  3.76912427e+00],\n",
       "       [ 3.49871230e+00, -2.09571886e+00],\n",
       "       [ 4.38969755e+00, -5.43477869e+00],\n",
       "       [-1.72997248e+00, -2.03173304e+00],\n",
       "       [ 1.06643629e+00, -5.60308695e+00],\n",
       "       [-4.30817747e+00, -6.98082447e+00],\n",
       "       [ 6.44124031e-01,  6.52669954e+00],\n",
       "       [ 2.01873302e-01, -3.63825655e+00],\n",
       "       [ 2.80152845e+00, -4.05574226e+00],\n",
       "       [ 7.29547930e+00,  3.42465091e+00],\n",
       "       [-5.22173071e+00, -6.42105055e+00],\n",
       "       [ 4.61451674e+00, -7.08385324e+00],\n",
       "       [-3.62667620e-01, -2.95470548e+00],\n",
       "       [-4.79220343e+00,  4.40740824e+00],\n",
       "       [-9.00748909e-01, -4.41590929e+00],\n",
       "       [ 7.37906647e+00,  2.70882416e+00],\n",
       "       [-8.52161944e-01, -2.50165081e+00],\n",
       "       [-1.59474564e+00,  3.33970308e-01],\n",
       "       [ 4.59833431e+00,  4.19554520e+00],\n",
       "       [-6.13376379e-01,  7.84337044e-01],\n",
       "       [-7.04447412e+00,  1.04285860e+00],\n",
       "       [ 3.43623590e+00, -2.33376765e+00],\n",
       "       [ 2.87366581e+00, -1.13292933e+00],\n",
       "       [-3.90838534e-01, -5.31161451e+00],\n",
       "       [-2.80476511e-01,  9.32691383e+00],\n",
       "       [ 2.10952902e+00,  8.34958553e+00],\n",
       "       [-3.07223940e+00, -6.91997051e+00],\n",
       "       [ 4.48806381e+00, -1.39598024e+00],\n",
       "       [ 1.60899031e+00,  4.18475246e+00],\n",
       "       [ 1.23642159e+00, -3.47175741e+00],\n",
       "       [-1.16464889e+00, -6.23967028e+00],\n",
       "       [-1.54392672e+00, -3.60069013e+00],\n",
       "       [ 2.35523510e+00,  5.06735563e+00],\n",
       "       [-3.60845160e+00, -2.78179216e+00],\n",
       "       [-7.88445413e-01, -5.28773308e+00],\n",
       "       [-5.66787899e-01, -2.64879584e+00],\n",
       "       [-1.50141990e+00, -4.93145132e+00],\n",
       "       [ 7.54190779e+00,  1.28860283e+00],\n",
       "       [-1.19377553e+00,  6.30821180e+00],\n",
       "       [ 7.26274908e-01, -3.95344925e+00],\n",
       "       [ 6.98042965e+00, -8.22792113e-01],\n",
       "       [-1.57100368e+00, -4.52558279e+00],\n",
       "       [ 4.27447557e+00,  7.24779224e+00],\n",
       "       [-7.16862679e-01, -6.28801250e+00],\n",
       "       [ 1.77358615e+00,  6.29318953e+00],\n",
       "       [ 4.89906102e-01, -5.68718004e+00],\n",
       "       [ 7.21925080e-01,  1.04711189e+01],\n",
       "       [ 7.43029404e+00,  1.03400409e+00],\n",
       "       [ 2.96761918e+00,  5.96752834e+00],\n",
       "       [ 7.15818024e+00,  5.99042988e+00],\n",
       "       [ 2.14027905e+00, -2.19050431e+00],\n",
       "       [ 3.71135998e+00, -3.43489647e+00],\n",
       "       [-5.38729811e+00,  6.00282431e+00],\n",
       "       [ 4.29676819e+00, -5.62897825e+00],\n",
       "       [ 4.09554863e+00, -4.63837576e+00],\n",
       "       [ 2.65790153e+00,  3.01765889e-01],\n",
       "       [-3.39966798e+00,  1.35260075e-01],\n",
       "       [-3.37113500e+00, -5.91820955e+00],\n",
       "       [ 2.97033405e+00, -5.23835421e+00],\n",
       "       [ 1.44857991e+00, -4.90269899e+00],\n",
       "       [ 7.37189722e+00,  3.73289895e+00],\n",
       "       [ 1.49651730e+00, -9.15776312e-01],\n",
       "       [-1.46837342e+00, -8.15130413e-01],\n",
       "       [ 1.90397620e+00,  1.05291004e+01],\n",
       "       [-2.98336530e+00, -5.73934698e+00],\n",
       "       [ 1.75811216e-01,  4.50653404e-01],\n",
       "       [-8.06595013e-02, -4.75259542e+00],\n",
       "       [ 2.74693102e-01, -2.02918339e+00],\n",
       "       [ 8.63916874e+00, -9.52614784e-01],\n",
       "       [-3.62908840e+00, -1.29054213e+00],\n",
       "       [-2.18203950e+00,  7.04589427e-01],\n",
       "       [-3.06131411e+00, -1.90856934e+00],\n",
       "       [ 1.01869440e+00,  5.36107683e+00],\n",
       "       [ 5.43018103e+00,  5.29121017e+00],\n",
       "       [ 5.60779810e+00,  3.95236444e+00],\n",
       "       [ 2.34508181e+00,  1.04360218e+01],\n",
       "       [-3.14105302e-02, -3.93565917e+00],\n",
       "       [ 1.70198393e+00,  6.11065292e+00],\n",
       "       [ 1.20577239e-01,  8.78555489e+00],\n",
       "       [ 7.25559568e+00,  4.37935781e+00],\n",
       "       [-6.54181123e-01, -4.23308563e+00],\n",
       "       [-4.87210751e-01,  6.35584402e+00],\n",
       "       [ 5.30469322e+00,  2.80754447e+00],\n",
       "       [-1.06352794e+00,  8.79757690e+00],\n",
       "       [-2.43419504e+00, -6.92612362e+00],\n",
       "       [-9.01861191e-01, -3.63315248e+00],\n",
       "       [ 3.02976179e+00, -3.34784031e+00],\n",
       "       [ 4.17308092e+00,  9.59705651e-01],\n",
       "       [ 1.65692163e+00,  6.43567514e+00],\n",
       "       [ 8.26903164e-01, -8.67975330e+00],\n",
       "       [-4.95954752e+00, -1.10550416e+00],\n",
       "       [-9.20198202e-01,  2.75044799e+00],\n",
       "       [-4.30901647e-01, -3.43774915e+00],\n",
       "       [ 4.12914366e-01,  3.93921208e+00],\n",
       "       [ 7.22080660e+00, -4.72220325e+00],\n",
       "       [-3.37011242e+00, -4.11252069e+00],\n",
       "       [ 6.25953341e+00,  7.79932928e+00],\n",
       "       [-4.82180357e-01, -3.16850257e+00],\n",
       "       [-4.69098568e-01,  4.41883612e+00],\n",
       "       [-4.17428732e+00, -5.04199553e+00],\n",
       "       [ 2.79568219e+00, -4.02059764e-01],\n",
       "       [ 2.59918451e+00,  6.06159496e+00],\n",
       "       [-3.47145051e-01, -1.70069540e+00],\n",
       "       [ 3.88976836e+00,  6.05795002e+00],\n",
       "       [ 5.23590851e+00,  2.00699425e+00],\n",
       "       [ 7.25107050e+00,  4.50622320e+00],\n",
       "       [ 5.51430702e+00, -3.60471272e+00],\n",
       "       [ 7.05825853e+00,  2.21517229e+00],\n",
       "       [ 2.27677369e+00, -8.29856682e+00],\n",
       "       [ 5.92599821e+00,  3.20904398e+00],\n",
       "       [-1.22767031e+00, -5.04191256e+00],\n",
       "       [ 1.56441534e+00, -3.01167941e+00],\n",
       "       [ 6.20680809e-01, -3.60130596e+00],\n",
       "       [-1.40042675e+00, -4.28111362e+00],\n",
       "       [ 6.21857452e+00,  5.31774569e+00],\n",
       "       [-3.63353968e+00, -3.92427468e+00],\n",
       "       [ 2.24168539e+00, -5.10837603e+00],\n",
       "       [ 7.27024555e+00,  6.02993345e+00],\n",
       "       [-2.66846609e+00, -2.98855448e+00],\n",
       "       [ 2.99564481e+00,  1.89233005e+00],\n",
       "       [-1.51416636e+00,  5.96558714e+00],\n",
       "       [ 5.55386019e+00,  8.90320361e-01],\n",
       "       [ 8.53690624e-01, -1.91425467e+00],\n",
       "       [ 1.59977937e+00, -3.65884900e+00],\n",
       "       [-8.74866486e-01, -1.85764301e+00],\n",
       "       [ 1.33553433e+00, -4.74825335e+00],\n",
       "       [-1.57022190e+00,  2.24650121e+00],\n",
       "       [-1.16533399e+00,  2.86716056e+00],\n",
       "       [ 2.38435030e+00, -3.32727695e+00],\n",
       "       [ 5.08566570e+00,  6.25085211e+00],\n",
       "       [ 5.77277946e+00,  2.14126778e+00],\n",
       "       [ 6.55413032e-01,  2.43154931e+00],\n",
       "       [-3.43233943e+00, -8.36666489e+00],\n",
       "       [-2.80218339e+00,  6.81647730e+00],\n",
       "       [-1.71499658e+00, -2.13304400e+00],\n",
       "       [-4.08858299e+00, -2.75385714e+00],\n",
       "       [ 3.97367167e+00, -8.43768299e-01],\n",
       "       [-1.77765727e+00, -5.56337881e+00],\n",
       "       [ 5.21752977e+00,  2.78248262e+00],\n",
       "       [-2.24752235e+00, -4.30388689e+00],\n",
       "       [-9.79359686e-01, -6.46287084e-01],\n",
       "       [-7.00037003e+00, -8.69717956e-01],\n",
       "       [-5.03392458e-01, -6.98734713e+00],\n",
       "       [ 4.61080849e-01, -7.02360439e+00],\n",
       "       [ 4.14964724e+00,  9.55943298e+00],\n",
       "       [ 3.31189466e+00, -6.84189987e+00],\n",
       "       [ 1.08607495e+00,  1.20939696e+00],\n",
       "       [ 2.36095858e+00, -3.27363992e+00],\n",
       "       [ 5.41487598e+00, -5.17995548e+00],\n",
       "       [-3.90460730e+00,  3.20572114e+00],\n",
       "       [ 2.64424503e-01, -5.58054543e+00],\n",
       "       [-4.43495560e+00,  8.65509152e-01],\n",
       "       [-2.45725489e+00, -2.97332311e+00],\n",
       "       [ 7.83344388e-01, -4.88332176e+00],\n",
       "       [ 4.38617229e+00,  2.36327147e+00],\n",
       "       [ 1.73453069e+00, -7.54370499e+00],\n",
       "       [ 5.48135376e+00, -8.33682939e-02],\n",
       "       [ 2.57651567e+00,  3.34998012e+00],\n",
       "       [-7.21666276e-01, -5.08531451e-01],\n",
       "       [ 3.83924627e+00,  9.53571892e+00],\n",
       "       [-2.94075400e-01,  2.69168925e+00],\n",
       "       [ 5.69305849e+00,  5.50118208e+00],\n",
       "       [ 4.22188759e+00, -4.46965367e-01],\n",
       "       [-3.96488428e+00, -5.90286875e+00],\n",
       "       [-3.98209482e-01,  7.57071829e+00],\n",
       "       [ 4.94608021e+00,  7.54362345e+00],\n",
       "       [-5.76194906e+00,  2.22820616e+00],\n",
       "       [-1.53351998e+00,  4.22443390e+00],\n",
       "       [-1.67665589e+00, -1.77471220e+00],\n",
       "       [-7.71062374e+00, -2.59046006e+00],\n",
       "       [ 7.10220873e-01,  3.40022898e+00],\n",
       "       [-7.08681726e+00, -5.32813168e+00],\n",
       "       [ 6.14213705e-01, -8.75979328e+00],\n",
       "       [-5.43897152e+00,  4.03093100e+00],\n",
       "       [-1.36182845e+00, -5.08653498e+00],\n",
       "       [ 3.12318063e+00, -6.63163471e+00],\n",
       "       [ 4.58424950e+00,  8.98821068e+00],\n",
       "       [-1.43708050e+00, -3.92997026e+00],\n",
       "       [-3.22142267e+00,  7.23709774e+00],\n",
       "       [-7.73935556e+00, -2.34794545e+00],\n",
       "       [-3.15442657e+00,  4.94605780e-01],\n",
       "       [ 6.42317915e+00,  5.92578745e+00],\n",
       "       [-5.66234827e-01,  1.10055125e+00],\n",
       "       [ 7.05238962e+00, -2.95779538e+00],\n",
       "       [ 1.43449306e-01,  1.06030273e+01],\n",
       "       [ 1.16599917e+00,  5.08775616e+00],\n",
       "       [-3.93195200e+00,  3.32499409e+00],\n",
       "       [ 4.83127385e-01,  8.15930748e+00],\n",
       "       [-1.67767394e+00, -3.43891549e+00],\n",
       "       [ 1.03946853e+00,  5.28669977e+00],\n",
       "       [ 4.81257886e-01, -4.32314968e+00],\n",
       "       [-6.76350641e+00,  4.46869612e-01],\n",
       "       [-2.59146690e+00,  6.64255714e+00],\n",
       "       [ 6.24896193e+00, -2.05121326e+00],\n",
       "       [ 3.33615589e+00,  5.94810820e+00],\n",
       "       [ 1.05497062e+00, -3.60687470e+00],\n",
       "       [ 3.89120889e+00,  4.46018744e+00],\n",
       "       [ 7.35992527e+00,  3.36974239e+00],\n",
       "       [ 3.71990824e+00,  7.57413101e+00],\n",
       "       [-5.34162261e-02,  5.03270435e+00],\n",
       "       [-5.23896551e+00, -2.60608530e+00],\n",
       "       [-4.55897141e+00, -1.84579754e+00],\n",
       "       [ 1.86019969e+00, -3.33594799e+00],\n",
       "       [ 3.57013822e+00,  2.90570140e+00],\n",
       "       [ 2.48560518e-01,  8.49086571e+00],\n",
       "       [ 3.47596836e+00,  4.39182854e+00],\n",
       "       [ 7.34383631e+00, -2.69403148e+00],\n",
       "       [ 4.66653728e+00, -7.10069990e+00],\n",
       "       [ 3.39150488e-01, -3.44725251e+00],\n",
       "       [ 4.47622204e+00, -3.93150425e+00],\n",
       "       [-2.43354559e+00, -6.71577120e+00],\n",
       "       [-3.52145046e-01, -4.15673161e+00],\n",
       "       [ 4.40090704e+00, -3.16226792e+00],\n",
       "       [ 2.65011400e-01,  2.26056600e+00],\n",
       "       [-2.43864274e+00,  6.47216702e+00],\n",
       "       [-1.02597404e+00, -1.29327869e+00],\n",
       "       [-1.77499199e+00, -2.32439661e+00],\n",
       "       [ 4.69080114e+00,  6.84783316e+00],\n",
       "       [-5.45001984e-01,  4.96159029e+00],\n",
       "       [-3.44578433e+00,  7.85752678e+00],\n",
       "       [-7.14381695e+00, -5.38169527e+00],\n",
       "       [ 3.70281529e+00,  4.41620684e+00],\n",
       "       [ 3.09467942e-01, -2.90342069e+00],\n",
       "       [ 2.42822361e+00,  8.68129539e+00],\n",
       "       [ 6.63626613e-03,  5.26017237e+00],\n",
       "       [-3.88549495e+00, -7.35897875e+00],\n",
       "       [ 5.73983431e+00,  7.95216942e+00],\n",
       "       [-1.26822126e+00,  7.83667374e+00],\n",
       "       [ 4.75733042e+00,  7.53419590e+00],\n",
       "       [-3.99213815e+00,  5.61988449e+00],\n",
       "       [ 1.69629586e+00, -7.52100754e+00],\n",
       "       [-2.82896948e+00,  2.29011035e+00],\n",
       "       [-2.40289783e+00, -5.41180849e+00],\n",
       "       [-2.24042058e+00, -3.81368685e+00],\n",
       "       [ 2.43071198e+00,  3.15045333e+00],\n",
       "       [-1.46906704e-01, -2.21829939e+00],\n",
       "       [ 5.14340687e+00, -4.51178312e+00],\n",
       "       [ 4.41839838e+00,  7.84123063e-01],\n",
       "       [ 3.29882073e+00,  2.33273125e+00],\n",
       "       [ 2.38367701e+00,  7.94273376e+00],\n",
       "       [-5.80871868e+00,  2.47541380e+00],\n",
       "       [ 5.77704287e+00,  3.44247746e+00],\n",
       "       [ 2.55538136e-01, -4.40669155e+00],\n",
       "       [-4.02666360e-01,  7.54308653e+00],\n",
       "       [-8.18151188e+00, -2.18643570e+00],\n",
       "       [-9.74825919e-01, -2.10984516e+00],\n",
       "       [-9.09213841e-01, -3.27444494e-01],\n",
       "       [-2.28576517e+00, -2.77314878e+00],\n",
       "       [ 5.67341805e+00,  5.28550148e+00],\n",
       "       [-7.60585976e+00,  1.45292544e+00],\n",
       "       [ 1.45174789e+00, -3.75559711e+00],\n",
       "       [-2.24910632e-01,  4.04418612e+00],\n",
       "       [ 1.82859230e+00, -1.70621622e+00],\n",
       "       [ 7.64237702e-01, -1.98873222e+00],\n",
       "       [-2.08625865e+00,  6.09269571e+00],\n",
       "       [-3.48735785e+00,  8.04978752e+00],\n",
       "       [-8.67876172e-01, -5.77651358e+00],\n",
       "       [ 8.87280655e+00,  4.48604298e+00],\n",
       "       [ 3.70640516e+00, -1.49184132e+00],\n",
       "       [-5.14008522e+00,  2.54667473e+00],\n",
       "       [ 5.29981732e-01,  7.09713316e+00],\n",
       "       [ 1.88041437e+00, -3.94290709e+00],\n",
       "       [-3.91932321e+00, -4.36291265e+00],\n",
       "       [ 2.22911859e+00,  1.04808092e+01],\n",
       "       [ 2.31791258e+00,  6.18523502e+00],\n",
       "       [ 4.31163931e+00, -2.48349380e+00],\n",
       "       [-5.27355969e-01,  4.55386448e+00],\n",
       "       [-5.37120008e+00,  6.17875385e+00],\n",
       "       [-6.61480570e+00,  2.85400438e+00],\n",
       "       [ 4.49916029e+00,  8.72694206e+00],\n",
       "       [-4.93889391e-01,  1.08226192e+00],\n",
       "       [-1.49126840e+00,  4.92713404e+00],\n",
       "       [-3.55118656e+00,  5.72578144e+00],\n",
       "       [-1.35195589e+00, -7.81970835e+00],\n",
       "       [ 6.13231719e-01, -2.72560883e+00],\n",
       "       [-2.44187331e+00, -2.16463375e+00],\n",
       "       [ 5.56170511e+00,  4.02856493e+00],\n",
       "       [-9.71061528e-01, -3.17283535e+00],\n",
       "       [-5.81243944e+00, -5.04878521e+00],\n",
       "       [ 3.70337427e-01,  1.05710278e+01],\n",
       "       [ 1.33783531e+00,  9.35142517e+00],\n",
       "       [-3.13691688e+00,  4.73788929e+00],\n",
       "       [-2.25145316e+00, -4.09797287e+00],\n",
       "       [-6.76798105e-01, -3.47192645e+00],\n",
       "       [-1.53935206e+00, -3.86393714e+00],\n",
       "       [ 3.71137452e+00,  7.15598536e+00],\n",
       "       [ 4.83655548e+00,  4.18555307e+00],\n",
       "       [ 1.80187333e+00, -5.59205961e+00],\n",
       "       [ 1.12421703e+00,  4.93533182e+00],\n",
       "       [-1.15884066e+00,  8.21529293e+00],\n",
       "       [ 1.01745760e+00, -3.14122987e+00],\n",
       "       [ 4.83900428e-01,  6.46811390e+00],\n",
       "       [-1.81903481e+00, -1.93235803e+00],\n",
       "       [ 2.09303021e+00,  1.05755825e+01],\n",
       "       [-5.09706450e+00,  4.33865166e+00],\n",
       "       [-2.19305396e+00, -4.89867163e+00],\n",
       "       [-3.11559725e+00, -4.87034512e+00],\n",
       "       [ 2.32656288e+00,  7.96957302e+00],\n",
       "       [ 1.48652625e+00, -2.93775654e+00],\n",
       "       [-4.99749422e+00,  3.63900185e-01],\n",
       "       [ 3.68681431e+00, -6.15168095e+00],\n",
       "       [ 3.68643069e+00,  7.11984205e+00],\n",
       "       [ 7.13456869e+00, -2.72451377e+00],\n",
       "       [ 6.35453606e+00,  7.82086420e+00],\n",
       "       [ 4.57103252e+00,  8.81440163e+00],\n",
       "       [-1.17088437e+00,  8.44494152e+00],\n",
       "       [-7.38229132e+00,  1.31212437e+00],\n",
       "       [-3.35142756e+00,  5.53177166e+00],\n",
       "       [-3.02382779e+00,  4.59266138e+00],\n",
       "       [ 5.01694143e-01, -3.73862696e+00],\n",
       "       [ 1.34194160e+00,  9.12912846e+00]], dtype=float32)"
      ]
     },
     "execution_count": 114,
     "metadata": {},
     "output_type": "execute_result"
    }
   ],
   "source": [
    "low_dim_embed"
   ]
  },
  {
   "cell_type": "code",
   "execution_count": 115,
   "metadata": {
    "scrolled": false
   },
   "outputs": [
    {
     "data": {
      "image/png": "[encoded data removed]",
      "text/plain": [
       "<Figure size 1296x1296 with 1 Axes>"
      ]
     },
     "metadata": {},
     "output_type": "display_data"
    }
   ],
   "source": [
    "import matplotlib.pyplot as plt\n",
    "%matplotlib inline\n",
    "\n",
    "fig = plt.figure(figsize=(18, 18))\n",
    "\n",
    "ax = plt.axes(frameon=False)\n",
    "\n",
    "plt.setp(ax, xticks=(), yticks=())\n",
    "\n",
    "plt.scatter(low_dim_embed[:, 0], low_dim_embed[:, 1])\n",
    "\n",
    "for i, label in enumerate(labels):\n",
    "    plt.annotate(label,xy=(low_dim_embed[i,:]),xytext=(5,2),textcoords = 'offset points',ha='right',va='bottom')\n",
    "plt.show()"
   ]
  },
  {
   "cell_type": "markdown",
   "metadata": {},
   "source": [
    "# Gensim Guide\n",
    "\n",
    "* References: https://github.com/RaRe-Technologies/gensim/blob/develop/docs/notebooks/Tensorboard_visualizations.ipynb "
   ]
  },
  {
   "cell_type": "code",
   "execution_count": 1,
   "metadata": {},
   "outputs": [],
   "source": [
    "from gensim.test.utils import common_texts\n",
    "from gensim.models.doc2vec import Doc2Vec, TaggedDocument"
   ]
  },
  {
   "cell_type": "code",
   "execution_count": 2,
   "metadata": {},
   "outputs": [
    {
     "data": {
      "text/plain": [
       "[['human', 'interface', 'computer'],\n",
       " ['survey', 'user', 'computer', 'system', 'response', 'time'],\n",
       " ['eps', 'user', 'interface', 'system'],\n",
       " ['system', 'human', 'system', 'eps'],\n",
       " ['user', 'response', 'time'],\n",
       " ['trees'],\n",
       " ['graph', 'trees'],\n",
       " ['graph', 'minors', 'trees'],\n",
       " ['graph', 'minors', 'survey']]"
      ]
     },
     "execution_count": 2,
     "metadata": {},
     "output_type": "execute_result"
    }
   ],
   "source": [
    "common_texts"
   ]
  },
  {
   "cell_type": "code",
   "execution_count": 30,
   "metadata": {},
   "outputs": [],
   "source": [
    "documents = [TaggedDocument(doc, [i]) for i, doc in enumerate(common_texts)]"
   ]
  },
  {
   "cell_type": "code",
   "execution_count": 32,
   "metadata": {},
   "outputs": [
    {
     "data": {
      "text/plain": [
       "[TaggedDocument(words=['human', 'interface', 'computer'], tags=[0]),\n",
       " TaggedDocument(words=['survey', 'user', 'computer', 'system', 'response', 'time'], tags=[1]),\n",
       " TaggedDocument(words=['eps', 'user', 'interface', 'system'], tags=[2]),\n",
       " TaggedDocument(words=['system', 'human', 'system', 'eps'], tags=[3]),\n",
       " TaggedDocument(words=['user', 'response', 'time'], tags=[4]),\n",
       " TaggedDocument(words=['trees'], tags=[5]),\n",
       " TaggedDocument(words=['graph', 'trees'], tags=[6]),\n",
       " TaggedDocument(words=['graph', 'minors', 'trees'], tags=[7]),\n",
       " TaggedDocument(words=['graph', 'minors', 'survey'], tags=[8])]"
      ]
     },
     "execution_count": 32,
     "metadata": {},
     "output_type": "execute_result"
    }
   ],
   "source": [
    "documents"
   ]
  },
  {
   "cell_type": "code",
   "execution_count": 33,
   "metadata": {},
   "outputs": [
    {
     "name": "stderr",
     "output_type": "stream",
     "text": [
      "C:\\Users\\manish.singh04\\AppData\\Local\\Continuum\\anaconda3\\lib\\site-packages\\gensim\\models\\base_any2vec.py:743: UserWarning: C extension not loaded, training will be slow. Install a C compiler and reinstall gensim for fast training.\n",
      "  \"C extension not loaded, training will be slow. \"\n"
     ]
    }
   ],
   "source": [
    "model = Doc2Vec(documents,vector_size = 5, window=2,min_count=1,workers=4)"
   ]
  },
  {
   "cell_type": "code",
   "execution_count": 34,
   "metadata": {},
   "outputs": [
    {
     "data": {
      "text/plain": [
       "array([ 0.00378137,  0.00962957,  0.00790751,  0.01735609, -0.09757256],\n",
       "      dtype=float32)"
      ]
     },
     "execution_count": 34,
     "metadata": {},
     "output_type": "execute_result"
    }
   ],
   "source": [
    "model.infer_vector(['system','response'])"
   ]
  },
  {
   "cell_type": "code",
   "execution_count": 37,
   "metadata": {},
   "outputs": [],
   "source": [
    "from sklearn.feature_extraction.text import CountVectorizer,TfidfVectorizer"
   ]
  },
  {
   "cell_type": "code",
   "execution_count": 38,
   "metadata": {},
   "outputs": [],
   "source": [
    "documents = (\n",
    "\"The sky is blue\",\n",
    "\"The sun is bright\",\n",
    "\"The sun in the sky is bright\",\n",
    "\"We can see the shining sun, the bright sun\"\n",
    ")\n"
   ]
  },
  {
   "cell_type": "code",
   "execution_count": 39,
   "metadata": {},
   "outputs": [],
   "source": [
    "vect = CountVectorizer(stop_words='english')"
   ]
  },
  {
   "cell_type": "code",
   "execution_count": 40,
   "metadata": {},
   "outputs": [
    {
     "data": {
      "text/plain": [
       "CountVectorizer(analyzer='word', binary=False, decode_error='strict',\n",
       "        dtype=<class 'numpy.int64'>, encoding='utf-8', input='content',\n",
       "        lowercase=True, max_df=1.0, max_features=None, min_df=1,\n",
       "        ngram_range=(1, 1), preprocessor=None, stop_words='english',\n",
       "        strip_accents=None, token_pattern='(?u)\\\\b\\\\w\\\\w+\\\\b',\n",
       "        tokenizer=None, vocabulary=None)"
      ]
     },
     "execution_count": 40,
     "metadata": {},
     "output_type": "execute_result"
    }
   ],
   "source": [
    "vect.fit(documents)"
   ]
  },
  {
   "cell_type": "code",
   "execution_count": 41,
   "metadata": {},
   "outputs": [],
   "source": [
    "x = vect.transform(documents)"
   ]
  },
  {
   "cell_type": "code",
   "execution_count": 42,
   "metadata": {},
   "outputs": [
    {
     "data": {
      "text/plain": [
       "array([[1, 0, 0, 1, 0],\n",
       "       [0, 1, 0, 0, 1],\n",
       "       [0, 1, 0, 1, 1],\n",
       "       [0, 1, 1, 0, 2]], dtype=int64)"
      ]
     },
     "execution_count": 42,
     "metadata": {},
     "output_type": "execute_result"
    }
   ],
   "source": [
    "x.toarray()"
   ]
  },
  {
   "cell_type": "code",
   "execution_count": 43,
   "metadata": {},
   "outputs": [
    {
     "data": {
      "text/plain": [
       "['blue', 'bright', 'shining', 'sky', 'sun']"
      ]
     },
     "execution_count": 43,
     "metadata": {},
     "output_type": "execute_result"
    }
   ],
   "source": [
    "vect.get_feature_names()"
   ]
  },
  {
   "cell_type": "code",
   "execution_count": 44,
   "metadata": {},
   "outputs": [],
   "source": [
    "document= (\"the water is blue\",\"The sun is in right\")"
   ]
  },
  {
   "cell_type": "code",
   "execution_count": 45,
   "metadata": {},
   "outputs": [],
   "source": [
    "xy = vect.transform(document)"
   ]
  },
  {
   "cell_type": "code",
   "execution_count": 46,
   "metadata": {},
   "outputs": [
    {
     "data": {
      "text/plain": [
       "array([[1, 0, 0, 0, 0],\n",
       "       [0, 0, 0, 0, 1]], dtype=int64)"
      ]
     },
     "execution_count": 46,
     "metadata": {},
     "output_type": "execute_result"
    }
   ],
   "source": [
    "xy.toarray()"
   ]
  },
  {
   "cell_type": "code",
   "execution_count": 47,
   "metadata": {},
   "outputs": [
    {
     "data": {
      "text/plain": [
       "array([[1, 0, 0, 1, 0]], dtype=int64)"
      ]
     },
     "execution_count": 47,
     "metadata": {},
     "output_type": "execute_result"
    }
   ],
   "source": [
    "x[0:1].toarray()"
   ]
  },
  {
   "cell_type": "code",
   "execution_count": 48,
   "metadata": {},
   "outputs": [
    {
     "data": {
      "text/plain": [
       "['blue', 'bright', 'shining', 'sky', 'sun']"
      ]
     },
     "execution_count": 48,
     "metadata": {},
     "output_type": "execute_result"
    }
   ],
   "source": [
    "vect.get_feature_names()"
   ]
  },
  {
   "cell_type": "code",
   "execution_count": 49,
   "metadata": {},
   "outputs": [],
   "source": [
    "from sklearn.metrics.pairwise import cosine_similarity"
   ]
  },
  {
   "cell_type": "code",
   "execution_count": 50,
   "metadata": {},
   "outputs": [
    {
     "data": {
      "text/plain": [
       "array([[1.        , 0.        , 0.40824829, 0.        ]])"
      ]
     },
     "execution_count": 50,
     "metadata": {},
     "output_type": "execute_result"
    }
   ],
   "source": [
    "cosine_similarity(x[0:1],x)"
   ]
  },
  {
   "cell_type": "code",
   "execution_count": null,
   "metadata": {},
   "outputs": [],
   "source": []
  },
  {
   "cell_type": "code",
   "execution_count": null,
   "metadata": {},
   "outputs": [],
   "source": []
  }
 ],
 "metadata": {
  "kernelspec": {
   "display_name": "Python 3",
   "language": "python",
   "name": "python3"
  },
  "language_info": {
   "codemirror_mode": {
    "name": "ipython",
    "version": 3
   },
   "file_extension": ".py",
   "mimetype": "text/x-python",
   "name": "python",
   "nbconvert_exporter": "python",
   "pygments_lexer": "ipython3",
   "version": "3.7.1"
  }
 },
 "nbformat": 4,
 "nbformat_minor": 2
}
