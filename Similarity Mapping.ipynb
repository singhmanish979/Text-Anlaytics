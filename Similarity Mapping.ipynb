{
 "cells": [
  {
   "cell_type": "code",
   "execution_count": 1,
   "metadata": {},
   "outputs": [],
   "source": [
    "import pandas as pd\n",
    "import numpy as np\n",
    "from fuzzywuzzy import fuzz\n",
    "import difflib\n",
    "\n",
    "import re, math\n",
    "from collections import Counter\n",
    "\n",
    "# from tqdm.auto import tqdm\n",
    "# tqdm.pandas()"
   ]
  },
  {
   "cell_type": "code",
   "execution_count": 2,
   "metadata": {},
   "outputs": [],
   "source": [
    "WORD = re.compile(r'\\w+')"
   ]
  },
  {
   "cell_type": "code",
   "execution_count": 3,
   "metadata": {},
   "outputs": [],
   "source": [
    "def get_cosine(vec1, vec2):\n",
    "    intersection = set(vec1.keys()) & set(vec2.keys())\n",
    "    numerator = sum([vec1[x] * vec2[x] for x in intersection])\n",
    "    \n",
    "    sum1 = sum([vec1[x]**2 for x in vec1.keys()])\n",
    "    sum2 = sum([vec2[x]**2 for x in vec2.keys()])\n",
    "    denominator = math.sqrt(sum1) * math.sqrt(sum2)\n",
    "    \n",
    "    if not denominator:\n",
    "        return 0.0\n",
    "    else:\n",
    "        return float(numerator) / denominator\n",
    "\n",
    "def text_to_vector(text):\n",
    "    words = WORD.findall(text)\n",
    "    return Counter(words)\n",
    "\n",
    "def get_cosine_similarity_string(string_, list_strings):\n",
    "    \n",
    "    subset_strings = difflib.get_close_matches(string_, list_strings, n=5, cutoff=0.5)\n",
    "    cosine_scores = []\n",
    "    vector1 = text_to_vector(string_)\n",
    "    \n",
    "    for text in subset_strings:    \n",
    "        vector2 = text_to_vector(text)\n",
    "        cosine_scores.append(get_cosine(vector1, vector2))\n",
    "#         string_diff.append(difflib.get_close_matches(vector1, vector2))\n",
    "    temp_df = pd.DataFrame({'input_string':string_, 'possible_string':subset_strings, 'cosine_score':cosine_scores}).sort_values('cosine_score', ascending=False)\n",
    "    return temp_df.iloc[:1].to_dict(orient='records')"
   ]
  },
  {
   "cell_type": "code",
   "execution_count": 4,
   "metadata": {},
   "outputs": [],
   "source": [
    "data_competitor = pd.read_csv('Amazon_Fragrance.csv') # Competitor Data"
   ]
  },
  {
   "cell_type": "code",
   "execution_count": 5,
   "metadata": {},
   "outputs": [
    {
     "data": {
      "text/html": [
       "<div>\n",
       "<style scoped>\n",
       "    .dataframe tbody tr th:only-of-type {\n",
       "        vertical-align: middle;\n",
       "    }\n",
       "\n",
       "    .dataframe tbody tr th {\n",
       "        vertical-align: top;\n",
       "    }\n",
       "\n",
       "    .dataframe thead th {\n",
       "        text-align: right;\n",
       "    }\n",
       "</style>\n",
       "<table border=\"1\" class=\"dataframe\">\n",
       "  <thead>\n",
       "    <tr style=\"text-align: right;\">\n",
       "      <th></th>\n",
       "      <th>Unnamed: 0</th>\n",
       "      <th>Unnamed: 0.1</th>\n",
       "      <th>catalog_code</th>\n",
       "      <th>catalog_sku</th>\n",
       "      <th>catalog_sku_group</th>\n",
       "      <th>brand</th>\n",
       "      <th>title</th>\n",
       "      <th>category</th>\n",
       "      <th>model</th>\n",
       "      <th>color</th>\n",
       "      <th>...</th>\n",
       "      <th>gender</th>\n",
       "      <th>misc1</th>\n",
       "      <th>misc2</th>\n",
       "      <th>image_link</th>\n",
       "      <th>extra</th>\n",
       "      <th>product_rating</th>\n",
       "      <th>num_product_reviews</th>\n",
       "      <th>product_url</th>\n",
       "      <th>status</th>\n",
       "      <th>catalog_sku_merged</th>\n",
       "    </tr>\n",
       "  </thead>\n",
       "  <tbody>\n",
       "    <tr>\n",
       "      <th>0</th>\n",
       "      <td>65476</td>\n",
       "      <td>65476</td>\n",
       "      <td>AMAZON</td>\n",
       "      <td>B07F929XMQ</td>\n",
       "      <td>NaN</td>\n",
       "      <td>nike</td>\n",
       "      <td>Nike Women's Power Gym Flutter Print Tights, W...</td>\n",
       "      <td>All Perfumes</td>\n",
       "      <td>NaN</td>\n",
       "      <td>NaN</td>\n",
       "      <td>...</td>\n",
       "      <td>Women</td>\n",
       "      <td>{'Material Composition': '78', 'Brand Name': '...</td>\n",
       "      <td>NaN</td>\n",
       "      <td>https://images-na.ssl-images-amazon.com/images...</td>\n",
       "      <td>NaN</td>\n",
       "      <td>NaN</td>\n",
       "      <td>NaN</td>\n",
       "      <td>https://www.amazon.ae/random-string-no-prod/dp...</td>\n",
       "      <td>NaN</td>\n",
       "      <td>NaN</td>\n",
       "    </tr>\n",
       "    <tr>\n",
       "      <th>1</th>\n",
       "      <td>57518</td>\n",
       "      <td>57518</td>\n",
       "      <td>AMAZON</td>\n",
       "      <td>B00B406WDY</td>\n",
       "      <td>NaN</td>\n",
       "      <td>gucci</td>\n",
       "      <td>Gucci Guilty Black Eau de Toilette Spray for H...</td>\n",
       "      <td>All Perfumes</td>\n",
       "      <td>NaN</td>\n",
       "      <td>NaN</td>\n",
       "      <td>...</td>\n",
       "      <td>NaN</td>\n",
       "      <td>{}</td>\n",
       "      <td>NaN</td>\n",
       "      <td>https://images-na.ssl-images-amazon.com/images...</td>\n",
       "      <td>NaN</td>\n",
       "      <td>NaN</td>\n",
       "      <td>NaN</td>\n",
       "      <td>https://www.amazon.ae/random-string-no-prod/dp...</td>\n",
       "      <td>NaN</td>\n",
       "      <td>NaN</td>\n",
       "    </tr>\n",
       "  </tbody>\n",
       "</table>\n",
       "<p>2 rows × 23 columns</p>\n",
       "</div>"
      ],
      "text/plain": [
       "   Unnamed: 0  Unnamed: 0.1 catalog_code catalog_sku  catalog_sku_group  \\\n",
       "0       65476         65476       AMAZON  B07F929XMQ                NaN   \n",
       "1       57518         57518       AMAZON  B00B406WDY                NaN   \n",
       "\n",
       "   brand                                              title      category  \\\n",
       "0   nike  Nike Women's Power Gym Flutter Print Tights, W...  All Perfumes   \n",
       "1  gucci  Gucci Guilty Black Eau de Toilette Spray for H...  All Perfumes   \n",
       "\n",
       "   model  color  ... gender  \\\n",
       "0    NaN    NaN  ...  Women   \n",
       "1    NaN    NaN  ...    NaN   \n",
       "\n",
       "                                               misc1  misc2  \\\n",
       "0  {'Material Composition': '78', 'Brand Name': '...    NaN   \n",
       "1                                                 {}    NaN   \n",
       "\n",
       "                                          image_link extra  product_rating  \\\n",
       "0  https://images-na.ssl-images-amazon.com/images...   NaN             NaN   \n",
       "1  https://images-na.ssl-images-amazon.com/images...   NaN             NaN   \n",
       "\n",
       "  num_product_reviews                                        product_url  \\\n",
       "0                 NaN  https://www.amazon.ae/random-string-no-prod/dp...   \n",
       "1                 NaN  https://www.amazon.ae/random-string-no-prod/dp...   \n",
       "\n",
       "   status catalog_sku_merged  \n",
       "0     NaN                NaN  \n",
       "1     NaN                NaN  \n",
       "\n",
       "[2 rows x 23 columns]"
      ]
     },
     "execution_count": 5,
     "metadata": {},
     "output_type": "execute_result"
    }
   ],
   "source": [
    "data_competitor.head(2)"
   ]
  },
  {
   "cell_type": "code",
   "execution_count": 5,
   "metadata": {},
   "outputs": [],
   "source": [
    "data_competitor['title'] = data_competitor['title'].str.lower().apply(lambda x : re.sub(r' ml','ml',x))"
   ]
  },
  {
   "cell_type": "code",
   "execution_count": 6,
   "metadata": {},
   "outputs": [],
   "source": [
    "data_competitor['title'] = data_competitor['title'].apply(lambda x: re.sub(r'EDP|EDT|', \"\", x, flags=re.IGNORECASE))"
   ]
  },
  {
   "cell_type": "code",
   "execution_count": 7,
   "metadata": {},
   "outputs": [],
   "source": [
    "data_competitor['title'] = data_competitor['title'].apply(lambda x: re.sub(r'_|-', \" \", x))"
   ]
  },
  {
   "cell_type": "code",
   "execution_count": 8,
   "metadata": {},
   "outputs": [
    {
     "data": {
      "text/html": [
       "<div>\n",
       "<style scoped>\n",
       "    .dataframe tbody tr th:only-of-type {\n",
       "        vertical-align: middle;\n",
       "    }\n",
       "\n",
       "    .dataframe tbody tr th {\n",
       "        vertical-align: top;\n",
       "    }\n",
       "\n",
       "    .dataframe thead th {\n",
       "        text-align: right;\n",
       "    }\n",
       "</style>\n",
       "<table border=\"1\" class=\"dataframe\">\n",
       "  <thead>\n",
       "    <tr style=\"text-align: right;\">\n",
       "      <th></th>\n",
       "      <th>title</th>\n",
       "    </tr>\n",
       "  </thead>\n",
       "  <tbody>\n",
       "    <tr>\n",
       "      <th>0</th>\n",
       "      <td>nike women's power gym flutter print tights, w...</td>\n",
       "    </tr>\n",
       "    <tr>\n",
       "      <th>1</th>\n",
       "      <td>gucci guilty black eau de toilette spray for h...</td>\n",
       "    </tr>\n",
       "    <tr>\n",
       "      <th>2</th>\n",
       "      <td>aramis havana for men, 3.4 oz  spray (gentlema...</td>\n",
       "    </tr>\n",
       "    <tr>\n",
       "      <th>3</th>\n",
       "      <td>la petite robe noire eau fraiche by guerlain f...</td>\n",
       "    </tr>\n",
       "    <tr>\n",
       "      <th>4</th>\n",
       "      <td>blue lady 2 perfume for women by rasasi    35ml</td>\n",
       "    </tr>\n",
       "  </tbody>\n",
       "</table>\n",
       "</div>"
      ],
      "text/plain": [
       "                                               title\n",
       "0  nike women's power gym flutter print tights, w...\n",
       "1  gucci guilty black eau de toilette spray for h...\n",
       "2  aramis havana for men, 3.4 oz  spray (gentlema...\n",
       "3  la petite robe noire eau fraiche by guerlain f...\n",
       "4    blue lady 2 perfume for women by rasasi    35ml"
      ]
     },
     "execution_count": 8,
     "metadata": {},
     "output_type": "execute_result"
    }
   ],
   "source": [
    "data_competitor[['title']].head()"
   ]
  },
  {
   "cell_type": "code",
   "execution_count": 9,
   "metadata": {},
   "outputs": [
    {
     "name": "stdout",
     "output_type": "stream",
     "text": [
      "5                black aoud by montale  100ml  alish s \n",
      "6             cacharel lou lou for women, 1.7 oz  spray\n",
      "7                 cacharel noa for women, 3.4 oz  spray\n",
      "8           davidoff cool water for men, 1.35 oz  spray\n",
      "9                gres cabotine for women, 1.7 oz  spray\n",
      "10    guerlain samsara eau de toilette for women   50ml\n",
      "11           guerlain mitsouko for women, 1.7 oz  spray\n",
      "12         lacoste style in play for men, 2.5 oz  spray\n",
      "13     poeme by lancome for women   eau de parfum, 50ml\n",
      "14    ysatis by givenchy for women. eau de toilette ...\n",
      "Name: title, dtype: object\n"
     ]
    }
   ],
   "source": [
    "competitor_title = data_competitor['title']\n",
    "print(competitor_title[5:15]) # amazon sample rows"
   ]
  },
  {
   "cell_type": "code",
   "execution_count": 10,
   "metadata": {},
   "outputs": [],
   "source": [
    "data_client = pd.read_csv(\"Noon_Fragrance.csv\") # Client Data"
   ]
  },
  {
   "cell_type": "code",
   "execution_count": 11,
   "metadata": {},
   "outputs": [],
   "source": [
    "data_client['title_en'] = data_client['title_en'].apply(lambda x : re.sub(\"_|-\", \" \",x))"
   ]
  },
  {
   "cell_type": "code",
   "execution_count": 12,
   "metadata": {
    "scrolled": true
   },
   "outputs": [],
   "source": [
    "data_client['product_subtype'] = data_client['product_subtype'].apply(lambda x : re.sub(\"_|-\", \" \",x))"
   ]
  },
  {
   "cell_type": "code",
   "execution_count": 13,
   "metadata": {},
   "outputs": [
    {
     "name": "stderr",
     "output_type": "stream",
     "text": [
      "C:\\Users\\manish.singh04\\AppData\\Local\\Continuum\\anaconda3\\lib\\site-packages\\ipykernel_launcher.py:3: FutureWarning: Sorting because non-concatenation axis is not aligned. A future version\n",
      "of pandas will change to not sort by default.\n",
      "\n",
      "To accept the future behavior, pass 'sort=False'.\n",
      "\n",
      "To retain the current behavior and silence the warning, pass 'sort=True'.\n",
      "\n",
      "  This is separate from the ipykernel package so we can avoid doing imports until\n"
     ]
    }
   ],
   "source": [
    "temp = pd.DataFrame([eval(data_client['attributes'][0])])\n",
    "for i in data_client['attributes'][1:]:\n",
    "    temp = pd.concat([temp, pd.DataFrame([eval(i)])], axis=0)\n",
    "temp.reset_index(inplace=True,drop=True)"
   ]
  },
  {
   "cell_type": "code",
   "execution_count": 15,
   "metadata": {},
   "outputs": [],
   "source": [
    "temp['fragrance_size'] = temp['fragrance_size'].apply(lambda x: \"ml \".join(str(x).replace(' ',\"\").split(\"-\")))"
   ]
  },
  {
   "cell_type": "code",
   "execution_count": 16,
   "metadata": {},
   "outputs": [],
   "source": [
    "data_client  = pd.concat([data_client ,temp[['fragrance_size']]], axis=1)"
   ]
  },
  {
   "cell_type": "code",
   "execution_count": 17,
   "metadata": {},
   "outputs": [],
   "source": [
    "data_client['title_en'] = data_client['title_en'].apply(lambda x: re.sub(r'EDP|EDT',\"\", x, flags=re.IGNORECASE))"
   ]
  },
  {
   "cell_type": "code",
   "execution_count": 29,
   "metadata": {},
   "outputs": [
    {
     "data": {
      "text/html": [
       "<div>\n",
       "<style scoped>\n",
       "    .dataframe tbody tr th:only-of-type {\n",
       "        vertical-align: middle;\n",
       "    }\n",
       "\n",
       "    .dataframe tbody tr th {\n",
       "        vertical-align: top;\n",
       "    }\n",
       "\n",
       "    .dataframe thead th {\n",
       "        text-align: right;\n",
       "    }\n",
       "</style>\n",
       "<table border=\"1\" class=\"dataframe\">\n",
       "  <thead>\n",
       "    <tr style=\"text-align: right;\">\n",
       "      <th></th>\n",
       "      <th>brand_code</th>\n",
       "      <th>title_en</th>\n",
       "      <th>product_subtype</th>\n",
       "      <th>department</th>\n",
       "      <th>fragrance_size</th>\n",
       "    </tr>\n",
       "  </thead>\n",
       "  <tbody>\n",
       "    <tr>\n",
       "      <th>723</th>\n",
       "      <td>moschino</td>\n",
       "      <td>Pink Fresh Couture</td>\n",
       "      <td>eau de toilette</td>\n",
       "      <td>Women</td>\n",
       "      <td>100ml 119ml</td>\n",
       "    </tr>\n",
       "    <tr>\n",
       "      <th>724</th>\n",
       "      <td>chanel</td>\n",
       "      <td>Gabrielle</td>\n",
       "      <td>eau de parfum</td>\n",
       "      <td>Women</td>\n",
       "      <td>100ml 119ml</td>\n",
       "    </tr>\n",
       "    <tr>\n",
       "      <th>725</th>\n",
       "      <td>bvlgari</td>\n",
       "      <td>Goldea The Roman Night</td>\n",
       "      <td>eau de parfum</td>\n",
       "      <td>Women</td>\n",
       "      <td>70ml 99ml</td>\n",
       "    </tr>\n",
       "    <tr>\n",
       "      <th>726</th>\n",
       "      <td>bvlgari</td>\n",
       "      <td>Bvlgari</td>\n",
       "      <td>eau de toilette</td>\n",
       "      <td>Men</td>\n",
       "      <td>100ml 119ml</td>\n",
       "    </tr>\n",
       "    <tr>\n",
       "      <th>727</th>\n",
       "      <td>aigner</td>\n",
       "      <td>White for Men</td>\n",
       "      <td>eau de toilette</td>\n",
       "      <td>Men</td>\n",
       "      <td>120ml 149ml</td>\n",
       "    </tr>\n",
       "  </tbody>\n",
       "</table>\n",
       "</div>"
      ],
      "text/plain": [
       "    brand_code                 title_en  product_subtype department  \\\n",
       "723   moschino      Pink Fresh Couture   eau de toilette      Women   \n",
       "724     chanel               Gabrielle     eau de parfum      Women   \n",
       "725    bvlgari  Goldea The Roman Night     eau de parfum      Women   \n",
       "726    bvlgari                 Bvlgari   eau de toilette        Men   \n",
       "727     aigner           White for Men   eau de toilette        Men   \n",
       "\n",
       "    fragrance_size  \n",
       "723    100ml 119ml  \n",
       "724    100ml 119ml  \n",
       "725      70ml 99ml  \n",
       "726    100ml 119ml  \n",
       "727    120ml 149ml  "
      ]
     },
     "execution_count": 29,
     "metadata": {},
     "output_type": "execute_result"
    }
   ],
   "source": [
    "data_client[['brand_code', 'title_en', 'product_subtype','department','fragrance_size']].tail()"
   ]
  },
  {
   "cell_type": "code",
   "execution_count": 19,
   "metadata": {},
   "outputs": [],
   "source": [
    "data_client['client_title'] = data_client[['brand_code', 'title_en', 'product_subtype','department', 'fragrance_size']].apply(lambda x : \" \".join(x.str.lower()), axis=1)"
   ]
  },
  {
   "cell_type": "code",
   "execution_count": 20,
   "metadata": {},
   "outputs": [
    {
     "name": "stdout",
     "output_type": "stream",
     "text": [
      "0    mancera cedrat boise  eau de parfum unisex 120...\n",
      "1    mancera aoud line  eau de parfum unisex 120ml ...\n",
      "2    mancera wild leather  eau de parfum unisex 120...\n",
      "3    mancera wild rose aoud  eau de parfum unisex 1...\n",
      "4    geoffrey_beene grey flannel for men  eau de to...\n",
      "Name: client_title, dtype: object\n"
     ]
    }
   ],
   "source": [
    "client_title = data_client.client_title.str.lower()\n",
    "print(client_title[:5]) # Client sample rows"
   ]
  },
  {
   "cell_type": "markdown",
   "metadata": {},
   "source": [
    "*__Similarity Measuring__*"
   ]
  },
  {
   "cell_type": "code",
   "execution_count": 16,
   "metadata": {
    "scrolled": true
   },
   "outputs": [],
   "source": [
    "# results_df = get_cosine_similarity_string(str1, competitor_title) # Get possible matches testing functions"
   ]
  },
  {
   "cell_type": "code",
   "execution_count": 21,
   "metadata": {},
   "outputs": [
    {
     "name": "stdout",
     "output_type": "stream",
     "text": [
      "Wall time: 3min 33s\n"
     ]
    }
   ],
   "source": [
    "%%time\n",
    "test_results = data_client['client_title'].apply(lambda x: get_cosine_similarity_string(x, competitor_title))"
   ]
  },
  {
   "cell_type": "code",
   "execution_count": 280,
   "metadata": {},
   "outputs": [],
   "source": [
    "temp = pd.concat([test_results, data_client[['brand_code','title_en']]],axis=1)\n",
    "tempx = temp[temp.astype(str)['client_title'] != '[]']\n",
    "tempx.reset_index(inplace=True, drop=True)"
   ]
  },
  {
   "cell_type": "code",
   "execution_count": 287,
   "metadata": {},
   "outputs": [
    {
     "name": "stdout",
     "output_type": "stream",
     "text": [
      "Wall time: 684 ms\n"
     ]
    }
   ],
   "source": [
    "%%time\n",
    "temp = pd.DataFrame(tempx.client_title[0])\n",
    "i == 1\n",
    "for i in tempx.client_title[1:]:\n",
    "    temp = pd.concat([temp , pd.DataFrame(i)], axis=0)\n",
    "\n",
    "temp.reset_index(inplace=True,drop=True)"
   ]
  },
  {
   "cell_type": "code",
   "execution_count": 288,
   "metadata": {},
   "outputs": [],
   "source": [
    "temp.reset_index(drop=True, inplace=True)"
   ]
  },
  {
   "cell_type": "code",
   "execution_count": 289,
   "metadata": {},
   "outputs": [],
   "source": [
    "temp = pd.concat( [temp, tempx[['brand_code','title_en']]], axis=1)"
   ]
  },
  {
   "cell_type": "code",
   "execution_count": 290,
   "metadata": {
    "scrolled": true
   },
   "outputs": [
    {
     "data": {
      "text/html": [
       "<div>\n",
       "<style scoped>\n",
       "    .dataframe tbody tr th:only-of-type {\n",
       "        vertical-align: middle;\n",
       "    }\n",
       "\n",
       "    .dataframe tbody tr th {\n",
       "        vertical-align: top;\n",
       "    }\n",
       "\n",
       "    .dataframe thead th {\n",
       "        text-align: right;\n",
       "    }\n",
       "</style>\n",
       "<table border=\"1\" class=\"dataframe\">\n",
       "  <thead>\n",
       "    <tr style=\"text-align: right;\">\n",
       "      <th></th>\n",
       "      <th>cosine_score</th>\n",
       "      <th>input_string</th>\n",
       "      <th>possible_string</th>\n",
       "      <th>brand_code</th>\n",
       "      <th>title_en</th>\n",
       "    </tr>\n",
       "  </thead>\n",
       "  <tbody>\n",
       "    <tr>\n",
       "      <th>230</th>\n",
       "      <td>0.909091</td>\n",
       "      <td>gucci flora by gorgeous gardenia  eau de toile...</td>\n",
       "      <td>flora gorgeous gardenia by gucci for women   e...</td>\n",
       "      <td>gucci</td>\n",
       "      <td>Flora By Gorgeous Gardenia</td>\n",
       "    </tr>\n",
       "    <tr>\n",
       "      <th>131</th>\n",
       "      <td>0.904534</td>\n",
       "      <td>burberry my burberry  eau de parfum women 50ml...</td>\n",
       "      <td>burberry my burberry eau de parfum   50ml</td>\n",
       "      <td>burberry</td>\n",
       "      <td>My Burberry</td>\n",
       "    </tr>\n",
       "    <tr>\n",
       "      <th>593</th>\n",
       "      <td>0.897085</td>\n",
       "      <td>lalique perles de lalique  eau de parfum women...</td>\n",
       "      <td>perles de lalique by lalique for women   eau d...</td>\n",
       "      <td>lalique</td>\n",
       "      <td>Perles de Lalique</td>\n",
       "    </tr>\n",
       "    <tr>\n",
       "      <th>367</th>\n",
       "      <td>0.888889</td>\n",
       "      <td>tiverton fly free  eau de parfum men 100ml 119ml</td>\n",
       "      <td>tiverton fly free for men 100ml   eau de parfum</td>\n",
       "      <td>tiverton</td>\n",
       "      <td>Fly Free</td>\n",
       "    </tr>\n",
       "    <tr>\n",
       "      <th>155</th>\n",
       "      <td>0.888889</td>\n",
       "      <td>adidas team force  eau de toilette men 100ml 1...</td>\n",
       "      <td>adidas team force for men  eau de toilette, 10...</td>\n",
       "      <td>adidas</td>\n",
       "      <td>Team Force</td>\n",
       "    </tr>\n",
       "  </tbody>\n",
       "</table>\n",
       "</div>"
      ],
      "text/plain": [
       "     cosine_score                                       input_string  \\\n",
       "230      0.909091  gucci flora by gorgeous gardenia  eau de toile...   \n",
       "131      0.904534  burberry my burberry  eau de parfum women 50ml...   \n",
       "593      0.897085  lalique perles de lalique  eau de parfum women...   \n",
       "367      0.888889   tiverton fly free  eau de parfum men 100ml 119ml   \n",
       "155      0.888889  adidas team force  eau de toilette men 100ml 1...   \n",
       "\n",
       "                                       possible_string brand_code  \\\n",
       "230  flora gorgeous gardenia by gucci for women   e...      gucci   \n",
       "131          burberry my burberry eau de parfum   50ml   burberry   \n",
       "593  perles de lalique by lalique for women   eau d...    lalique   \n",
       "367    tiverton fly free for men 100ml   eau de parfum   tiverton   \n",
       "155  adidas team force for men  eau de toilette, 10...     adidas   \n",
       "\n",
       "                        title_en  \n",
       "230  Flora By Gorgeous Gardenia   \n",
       "131                 My Burberry   \n",
       "593           Perles de Lalique   \n",
       "367                    Fly Free   \n",
       "155                  Team Force   "
      ]
     },
     "execution_count": 290,
     "metadata": {},
     "output_type": "execute_result"
    }
   ],
   "source": [
    "temp.sort_values('cosine_score', ascending=False).head()"
   ]
  },
  {
   "cell_type": "code",
   "execution_count": 291,
   "metadata": {},
   "outputs": [
    {
     "data": {
      "text/html": [
       "<div>\n",
       "<style scoped>\n",
       "    .dataframe tbody tr th:only-of-type {\n",
       "        vertical-align: middle;\n",
       "    }\n",
       "\n",
       "    .dataframe tbody tr th {\n",
       "        vertical-align: top;\n",
       "    }\n",
       "\n",
       "    .dataframe thead th {\n",
       "        text-align: right;\n",
       "    }\n",
       "</style>\n",
       "<table border=\"1\" class=\"dataframe\">\n",
       "  <thead>\n",
       "    <tr style=\"text-align: right;\">\n",
       "      <th></th>\n",
       "      <th>cosine_score</th>\n",
       "      <th>input_string</th>\n",
       "      <th>possible_string</th>\n",
       "      <th>brand_code</th>\n",
       "      <th>title_en</th>\n",
       "    </tr>\n",
       "  </thead>\n",
       "  <tbody>\n",
       "    <tr>\n",
       "      <th>546</th>\n",
       "      <td>0.158114</td>\n",
       "      <td>almas dalmoon bakhour oud incense unisex 50ml ...</td>\n",
       "      <td>montale aoud ambre unisex  100ml</td>\n",
       "      <td>almas</td>\n",
       "      <td>Dalmoon Bakhour</td>\n",
       "    </tr>\n",
       "    <tr>\n",
       "      <th>544</th>\n",
       "      <td>0.149071</td>\n",
       "      <td>almas ghalaty oud oud incense unisex nan</td>\n",
       "      <td>montale original aouds unisex  100ml</td>\n",
       "      <td>almas</td>\n",
       "      <td>Ghalaty Oud</td>\n",
       "    </tr>\n",
       "    <tr>\n",
       "      <th>545</th>\n",
       "      <td>0.134840</td>\n",
       "      <td>almas bakhoor ashek al oud oud incense unisex ...</td>\n",
       "      <td>montale original aouds unisex  100ml</td>\n",
       "      <td>almas</td>\n",
       "      <td>Bakhoor Ashek Al Oud</td>\n",
       "    </tr>\n",
       "    <tr>\n",
       "      <th>446</th>\n",
       "      <td>0.117851</td>\n",
       "      <td>victoria_s_secret pure seduction body mist bod...</td>\n",
       "      <td>coral escape seduction for unisex  100ml</td>\n",
       "      <td>victoria_s_secret</td>\n",
       "      <td>Pure Seduction Body Mist</td>\n",
       "    </tr>\n",
       "    <tr>\n",
       "      <th>547</th>\n",
       "      <td>0.115470</td>\n",
       "      <td>almas oud al.oud bakhour oud incense unisex un...</td>\n",
       "      <td>montale aoud ambre unisex  100ml</td>\n",
       "      <td>almas</td>\n",
       "      <td>Oud Al.Oud Bakhour</td>\n",
       "    </tr>\n",
       "  </tbody>\n",
       "</table>\n",
       "</div>"
      ],
      "text/plain": [
       "     cosine_score                                       input_string  \\\n",
       "546      0.158114  almas dalmoon bakhour oud incense unisex 50ml ...   \n",
       "544      0.149071           almas ghalaty oud oud incense unisex nan   \n",
       "545      0.134840  almas bakhoor ashek al oud oud incense unisex ...   \n",
       "446      0.117851  victoria_s_secret pure seduction body mist bod...   \n",
       "547      0.115470  almas oud al.oud bakhour oud incense unisex un...   \n",
       "\n",
       "                              possible_string         brand_code  \\\n",
       "546          montale aoud ambre unisex  100ml              almas   \n",
       "544      montale original aouds unisex  100ml              almas   \n",
       "545      montale original aouds unisex  100ml              almas   \n",
       "446  coral escape seduction for unisex  100ml  victoria_s_secret   \n",
       "547          montale aoud ambre unisex  100ml              almas   \n",
       "\n",
       "                     title_en  \n",
       "546           Dalmoon Bakhour  \n",
       "544               Ghalaty Oud  \n",
       "545      Bakhoor Ashek Al Oud  \n",
       "446  Pure Seduction Body Mist  \n",
       "547        Oud Al.Oud Bakhour  "
      ]
     },
     "execution_count": 291,
     "metadata": {},
     "output_type": "execute_result"
    }
   ],
   "source": [
    "temp.sort_values('cosine_score', ascending=False).tail()"
   ]
  },
  {
   "cell_type": "code",
   "execution_count": 294,
   "metadata": {},
   "outputs": [],
   "source": [
    "temp['brand_partial_match'] = temp[['brand_code','possible_string']].apply(lambda x: fuzz.partial_ratio(x[0], x[1]),axis=1)\n",
    "temp['title_partial_match'] = temp[['title_en','possible_string']].apply(lambda x: fuzz.partial_ratio(x[0], x[1]),axis=1)"
   ]
  },
  {
   "cell_type": "code",
   "execution_count": 23,
   "metadata": {
    "scrolled": true
   },
   "outputs": [
    {
     "data": {
      "application/vnd.jupyter.widget-view+json": {
       "model_id": "a277c3c6eaaf4c328dc8f99689e296d9",
       "version_major": 2,
       "version_minor": 0
      },
      "text/plain": [
       "HBox(children=(IntProgress(value=0, max=670), HTML(value='')))"
      ]
     },
     "metadata": {},
     "output_type": "display_data"
    },
    {
     "name": "stdout",
     "output_type": "stream",
     "text": [
      "\n"
     ]
    }
   ],
   "source": [
    "temp['token_set_ratio'] = temp[['input_string','possible_string']].apply(lambda x: fuzz.token_set_ratio(x[0],x[1]),axis=1)"
   ]
  },
  {
   "cell_type": "code",
   "execution_count": 415,
   "metadata": {},
   "outputs": [],
   "source": [
    "# Write the results into df\n",
    "# pd.concat([data_client, temp[['cosine_score','possible_string']]], axis=1).to_csv('Noon_Fragances_MatchScore.csv')"
   ]
  },
  {
   "cell_type": "code",
   "execution_count": 8,
   "metadata": {},
   "outputs": [
    {
     "name": "stdout",
     "output_type": "stream",
     "text": [
      "cosine_score 0.8944271909999159\n",
      "partial_ratio 75\n",
      "token_set_ratio 100\n",
      "token_sort_ratio 89\n"
     ]
    }
   ],
   "source": [
    "i = 588\n",
    "# text1 = temp.input_string[i]\n",
    "# text2 = temp.possible_string[i]\n",
    "\n",
    "text2 = 'Alienware 25 Gaming monitor AW2518H'\n",
    "text1 = 'Alienware 25 monitor AW2518H'\n",
    "\n",
    "vector1 = text_to_vector(text1)\n",
    "vector2 = text_to_vector(text2)\n",
    "\n",
    "print('cosine_score', get_cosine(vector1,vector2))\n",
    "print('partial_ratio',fuzz.partial_ratio(text1, text2))\n",
    "print('token_set_ratio',fuzz.token_set_ratio(text1, text2))\n",
    "print('token_sort_ratio',fuzz.token_sort_ratio(text1, text2))"
   ]
  },
  {
   "cell_type": "code",
   "execution_count": 62,
   "metadata": {},
   "outputs": [
    {
     "name": "stdout",
     "output_type": "stream",
     "text": [
      "Counter({'lalique': 2, 'de': 2, 'perles': 1, 'eau': 1, 'parfum': 1, 'women': 1, '100ml': 1, '119ml': 1}) \n",
      " Counter({'de': 2, 'lalique': 2, 'perles': 1, 'by': 1, 'for': 1, 'women': 1, 'eau': 1, 'parfum': 1, '100ml': 1})\n"
     ]
    }
   ],
   "source": [
    "print(vector1,'\\n',vector2)"
   ]
  },
  {
   "cell_type": "code",
   "execution_count": 173,
   "metadata": {},
   "outputs": [],
   "source": [
    "temp.to_csv('Noon_FragancesMatchScore_4.csv',index=False)"
   ]
  },
  {
   "cell_type": "code",
   "execution_count": 430,
   "metadata": {},
   "outputs": [],
   "source": [
    "data_client.to_csv('Raw data used for mappin.csv',index=False)"
   ]
  },
  {
   "cell_type": "markdown",
   "metadata": {},
   "source": []
  },
  {
   "cell_type": "code",
   "execution_count": 167,
   "metadata": {},
   "outputs": [
    {
     "name": "stderr",
     "output_type": "stream",
     "text": [
      "C:\\Users\\manish.singh04\\AppData\\Local\\Continuum\\anaconda3\\lib\\site-packages\\ipykernel_launcher.py:4: FutureWarning: Sorting because non-concatenation axis is not aligned. A future version\n",
      "of pandas will change to not sort by default.\n",
      "\n",
      "To accept the future behavior, pass 'sort=False'.\n",
      "\n",
      "To retain the current behavior and silence the warning, pass 'sort=True'.\n",
      "\n",
      "  after removing the cwd from sys.path.\n"
     ]
    }
   ],
   "source": [
    "temp = pd.DataFrame(test_results[0])\n",
    "i == 1\n",
    "for idx, i in enumerate(test_results[1:]):\n",
    "    temp = pd.concat([temp , pd.DataFrame(i)], axis=0)"
   ]
  },
  {
   "cell_type": "code",
   "execution_count": 296,
   "metadata": {
    "scrolled": true
   },
   "outputs": [],
   "source": [
    "temp.to_csv('Final Results.csv',index=False)"
   ]
  },
  {
   "cell_type": "markdown",
   "metadata": {},
   "source": [
    "# Rough Workspace"
   ]
  },
  {
   "cell_type": "code",
   "execution_count": 14,
   "metadata": {},
   "outputs": [
    {
     "data": {
      "text/html": [
       "<div>\n",
       "<style scoped>\n",
       "    .dataframe tbody tr th:only-of-type {\n",
       "        vertical-align: middle;\n",
       "    }\n",
       "\n",
       "    .dataframe tbody tr th {\n",
       "        vertical-align: top;\n",
       "    }\n",
       "\n",
       "    .dataframe thead th {\n",
       "        text-align: right;\n",
       "    }\n",
       "</style>\n",
       "<table border=\"1\" class=\"dataframe\">\n",
       "  <thead>\n",
       "    <tr style=\"text-align: right;\">\n",
       "      <th></th>\n",
       "      <th>title</th>\n",
       "      <th>brand</th>\n",
       "      <th>gender</th>\n",
       "      <th>size</th>\n",
       "    </tr>\n",
       "  </thead>\n",
       "  <tbody>\n",
       "    <tr>\n",
       "      <th>0</th>\n",
       "      <td>nike women's power gym flutter print tights, w...</td>\n",
       "      <td>nike</td>\n",
       "      <td>Women</td>\n",
       "      <td>NaN</td>\n",
       "    </tr>\n",
       "    <tr>\n",
       "      <th>1</th>\n",
       "      <td>gucci guilty black eau de toilette spray for h...</td>\n",
       "      <td>gucci</td>\n",
       "      <td>NaN</td>\n",
       "      <td>90 ml</td>\n",
       "    </tr>\n",
       "    <tr>\n",
       "      <th>2</th>\n",
       "      <td>aramis havana for men, 3.4 oz  spray (gentlema...</td>\n",
       "      <td>aramis</td>\n",
       "      <td>Men</td>\n",
       "      <td>NaN</td>\n",
       "    </tr>\n",
       "    <tr>\n",
       "      <th>3</th>\n",
       "      <td>la petite robe noire eau fraiche by guerlain f...</td>\n",
       "      <td>guerlain</td>\n",
       "      <td>Women</td>\n",
       "      <td>50ml</td>\n",
       "    </tr>\n",
       "    <tr>\n",
       "      <th>4</th>\n",
       "      <td>blue lady 2 perfume for women by rasasi    35ml</td>\n",
       "      <td>rasasi</td>\n",
       "      <td>Women</td>\n",
       "      <td>35ml</td>\n",
       "    </tr>\n",
       "  </tbody>\n",
       "</table>\n",
       "</div>"
      ],
      "text/plain": [
       "                                               title     brand gender   size\n",
       "0  nike women's power gym flutter print tights, w...      nike  Women    NaN\n",
       "1  gucci guilty black eau de toilette spray for h...     gucci    NaN  90 ml\n",
       "2  aramis havana for men, 3.4 oz  spray (gentlema...    aramis    Men    NaN\n",
       "3  la petite robe noire eau fraiche by guerlain f...  guerlain  Women   50ml\n",
       "4    blue lady 2 perfume for women by rasasi    35ml    rasasi  Women   35ml"
      ]
     },
     "execution_count": 14,
     "metadata": {},
     "output_type": "execute_result"
    }
   ],
   "source": [
    "data_competitor[['title','brand','gender','size']].head()"
   ]
  },
  {
   "cell_type": "code",
   "execution_count": 16,
   "metadata": {},
   "outputs": [
    {
     "data": {
      "text/plain": [
       "False"
      ]
     },
     "execution_count": 16,
     "metadata": {},
     "output_type": "execute_result"
    }
   ],
   "source": [
    "'women' in data_competitor.title[0].split(' ')"
   ]
  },
  {
   "cell_type": "code",
   "execution_count": 17,
   "metadata": {},
   "outputs": [
    {
     "data": {
      "text/plain": [
       "['nike', \"women's\", 'power', 'gym', 'flutter', 'print', 'tights,', 'womens']"
      ]
     },
     "execution_count": 17,
     "metadata": {},
     "output_type": "execute_result"
    }
   ],
   "source": [
    "data_competitor.title[0].split(' ')"
   ]
  },
  {
   "cell_type": "code",
   "execution_count": 19,
   "metadata": {},
   "outputs": [
    {
     "data": {
      "text/plain": [
       "Counter({'nike': 1,\n",
       "         'women': 1,\n",
       "         's': 1,\n",
       "         'power': 1,\n",
       "         'gym': 1,\n",
       "         'flutter': 1,\n",
       "         'print': 1,\n",
       "         'tights': 1,\n",
       "         'womens': 1})"
      ]
     },
     "execution_count": 19,
     "metadata": {},
     "output_type": "execute_result"
    }
   ],
   "source": [
    "vecttext_to_vector(data_competitor.title[0])"
   ]
  },
  {
   "cell_type": "code",
   "execution_count": 20,
   "metadata": {},
   "outputs": [],
   "source": [
    "from nltk.stem import WordNetLemmatizer"
   ]
  },
  {
   "cell_type": "code",
   "execution_count": 22,
   "metadata": {},
   "outputs": [],
   "source": [
    "lemmatizer = WordNetLemmatizer()"
   ]
  },
  {
   "cell_type": "code",
   "execution_count": 33,
   "metadata": {},
   "outputs": [],
   "source": [
    "from nltk import pos_tag, pos_tag_sents, word_tokenize"
   ]
  },
  {
   "cell_type": "code",
   "execution_count": 7,
   "metadata": {},
   "outputs": [
    {
     "ename": "IndentationError",
     "evalue": "unindent does not match any outer indentation level (<tokenize>, line 5)",
     "output_type": "error",
     "traceback": [
      "\u001b[1;36m  File \u001b[1;32m\"<tokenize>\"\u001b[1;36m, line \u001b[1;32m5\u001b[0m\n\u001b[1;33m    else:\u001b[0m\n\u001b[1;37m    ^\u001b[0m\n\u001b[1;31mIndentationError\u001b[0m\u001b[1;31m:\u001b[0m unindent does not match any outer indentation level\n"
     ]
    }
   ],
   "source": [
    "# function to lookup token in sentence\n",
    "def lookup_text(sentence, token):\n",
    "    if token in sentence.split(' '):\n",
    "        return token\n",
    "    else:\n",
    "        return 'NaN'\n",
    "sentence = data_competitor.title[0]\n",
    "lookup_text(sentence, 'nike')"
   ]
  },
  {
   "cell_type": "code",
   "execution_count": 123,
   "metadata": {},
   "outputs": [],
   "source": [
    "amazon_data = data_competitor[['title','brand']]"
   ]
  },
  {
   "cell_type": "code",
   "execution_count": 130,
   "metadata": {},
   "outputs": [
    {
     "name": "stderr",
     "output_type": "stream",
     "text": [
      "C:\\Users\\manish.singh04\\AppData\\Local\\Continuum\\anaconda3\\lib\\site-packages\\pandas\\core\\indexing.py:635: SettingWithCopyWarning: \n",
      "A value is trying to be set on a copy of a slice from a DataFrame.\n",
      "Try using .loc[row_indexer,col_indexer] = value instead\n",
      "\n",
      "See the caveats in the documentation: http://pandas.pydata.org/pandas-docs/stable/indexing.html#indexing-view-versus-copy\n",
      "  self.obj[item_labels[indexer[info_axis]]] = value\n"
     ]
    }
   ],
   "source": [
    "amazon_data.loc[:,'brand_chk'] = data_competitor[['title','brand']].apply(lambda x:  lookup_text(x[0],x[1]), axis=1)"
   ]
  },
  {
   "cell_type": "code",
   "execution_count": 128,
   "metadata": {},
   "outputs": [],
   "source": [
    "amazon_data.loc[:,'gender_chk'] = data_competitor[['title','gender']].apply(lambda x:  lookup_text(x[0],x[1]),axis=1)"
   ]
  }
 ],
 "metadata": {
  "kernelspec": {
   "display_name": "Python 3",
   "language": "python",
   "name": "python3"
  },
  "language_info": {
   "codemirror_mode": {
    "name": "ipython",
    "version": 3
   },
   "file_extension": ".py",
   "mimetype": "text/x-python",
   "name": "python",
   "nbconvert_exporter": "python",
   "pygments_lexer": "ipython3",
   "version": "3.7.1"
  }
 },
 "nbformat": 4,
 "nbformat_minor": 2
}
